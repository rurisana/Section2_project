{
  "nbformat": 4,
  "nbformat_minor": 0,
  "metadata": {
    "colab": {
      "name": "AI_13_강다온_section2_project",
      "provenance": [],
      "collapsed_sections": [],
      "authorship_tag": "ABX9TyNC/UFX9hrPFVYaKFZjFdW1",
      "include_colab_link": true
    },
    "kernelspec": {
      "name": "python3",
      "display_name": "Python 3"
    },
    "language_info": {
      "name": "python"
    }
  },
  "cells": [
    {
      "cell_type": "markdown",
      "metadata": {
        "id": "view-in-github",
        "colab_type": "text"
      },
      "source": [
        "<a href=\"https://colab.research.google.com/github/rurisana/Section2_project/blob/main/AI_13_%EA%B0%95%EB%8B%A4%EC%98%A8_section2_project.ipynb\" target=\"_parent\"><img src=\"https://colab.research.google.com/assets/colab-badge.svg\" alt=\"Open In Colab\"/></a>"
      ]
    },
    {
      "cell_type": "markdown",
      "source": [
        "# 섹션 2 프로젝트\n",
        "청자 : 비데이터 직군\n",
        "\n",
        "목표 : 데이터셋을 사용하여 머신러닝 모델을 만든 후 성능 및 인사이트를 도출 / 공유\n",
        "\n",
        "발표 내용 : 지원한 회사에 사전과제(입사과제)를 받아서 수행, 면접관에게 해당 내용을 설명\n",
        "\n",
        "====\n",
        "\n",
        "## 데이터 셋('안전 운전자 예측')\n",
        "\n",
        "운전자가 보험을 청구할 확률을 예측. 사고를 낼 가능성이 낮은 안전 운전자에게는 낮은 보험료, 사고 가능성이 높은 경우 많은 보험료 청구해야. 정확히 예측해야지 고객에게 불만도가 없을테니 주의\n",
        "\n",
        "데이터는 포르투 세구로 회사에서 보유한 고객 데이터\n",
        "\n",
        "데이터는 결측값이 많은 편이기 때문에 문제가 있는 값들을 해결하는게 포인트\n",
        "\n",
        "타깃의 값은 0과 1로 값이 0이라면 운전자가 보험금을 청구X, 1이면 청구"
      ],
      "metadata": {
        "id": "vqa2NXT9pA2g"
      }
    },
    {
      "cell_type": "code",
      "execution_count": null,
      "metadata": {
        "colab": {
          "base_uri": "https://localhost:8080/"
        },
        "id": "8bLw_WSoogzZ",
        "outputId": "e04877f5-0bb3-4573-9240-9c508bfd2f7d"
      },
      "outputs": [
        {
          "output_type": "execute_result",
          "data": {
            "text/plain": [
              "((595212, 58), (892816, 57))"
            ]
          },
          "metadata": {},
          "execution_count": 18
        }
      ],
      "source": [
        "import pandas as pd\n",
        "\n",
        "train = pd.read_csv('/content/train.csv', index_col='id')\n",
        "test = pd.read_csv('/content/test.csv', index_col='id')\n",
        "submission = pd.read_csv('/content/sample_submission.csv', index_col='id')\n",
        "\n",
        "train.shape, test.shape"
      ]
    },
    {
      "cell_type": "code",
      "source": [
        "train.head()"
      ],
      "metadata": {
        "colab": {
          "base_uri": "https://localhost:8080/",
          "height": 331
        },
        "id": "-NtROmK6equA",
        "outputId": "19775d54-9322-426a-f77f-b58c0b22c01c"
      },
      "execution_count": null,
      "outputs": [
        {
          "output_type": "execute_result",
          "data": {
            "text/plain": [
              "    target  ps_ind_01  ps_ind_02_cat  ps_ind_03  ps_ind_04_cat  ps_ind_05_cat  \\\n",
              "id                                                                              \n",
              "7        0          2              2          5              1              0   \n",
              "9        0          1              1          7              0              0   \n",
              "13       0          5              4          9              1              0   \n",
              "16       0          0              1          2              0              0   \n",
              "17       0          0              2          0              1              0   \n",
              "\n",
              "    ps_ind_06_bin  ps_ind_07_bin  ps_ind_08_bin  ps_ind_09_bin  ...  \\\n",
              "id                                                              ...   \n",
              "7               0              1              0              0  ...   \n",
              "9               0              0              1              0  ...   \n",
              "13              0              0              1              0  ...   \n",
              "16              1              0              0              0  ...   \n",
              "17              1              0              0              0  ...   \n",
              "\n",
              "    ps_calc_11  ps_calc_12  ps_calc_13  ps_calc_14  ps_calc_15_bin  \\\n",
              "id                                                                   \n",
              "7            9           1           5           8               0   \n",
              "9            3           1           1           9               0   \n",
              "13           4           2           7           7               0   \n",
              "16           2           2           4           9               0   \n",
              "17           3           1           1           3               0   \n",
              "\n",
              "    ps_calc_16_bin  ps_calc_17_bin  ps_calc_18_bin  ps_calc_19_bin  \\\n",
              "id                                                                   \n",
              "7                1               1               0               0   \n",
              "9                1               1               0               1   \n",
              "13               1               1               0               1   \n",
              "16               0               0               0               0   \n",
              "17               0               0               1               1   \n",
              "\n",
              "    ps_calc_20_bin  \n",
              "id                  \n",
              "7                1  \n",
              "9                0  \n",
              "13               0  \n",
              "16               0  \n",
              "17               0  \n",
              "\n",
              "[5 rows x 58 columns]"
            ],
            "text/html": [
              "\n",
              "  <div id=\"df-5a576bd8-9c58-4ec0-9155-cfc0dbb91544\">\n",
              "    <div class=\"colab-df-container\">\n",
              "      <div>\n",
              "<style scoped>\n",
              "    .dataframe tbody tr th:only-of-type {\n",
              "        vertical-align: middle;\n",
              "    }\n",
              "\n",
              "    .dataframe tbody tr th {\n",
              "        vertical-align: top;\n",
              "    }\n",
              "\n",
              "    .dataframe thead th {\n",
              "        text-align: right;\n",
              "    }\n",
              "</style>\n",
              "<table border=\"1\" class=\"dataframe\">\n",
              "  <thead>\n",
              "    <tr style=\"text-align: right;\">\n",
              "      <th></th>\n",
              "      <th>target</th>\n",
              "      <th>ps_ind_01</th>\n",
              "      <th>ps_ind_02_cat</th>\n",
              "      <th>ps_ind_03</th>\n",
              "      <th>ps_ind_04_cat</th>\n",
              "      <th>ps_ind_05_cat</th>\n",
              "      <th>ps_ind_06_bin</th>\n",
              "      <th>ps_ind_07_bin</th>\n",
              "      <th>ps_ind_08_bin</th>\n",
              "      <th>ps_ind_09_bin</th>\n",
              "      <th>...</th>\n",
              "      <th>ps_calc_11</th>\n",
              "      <th>ps_calc_12</th>\n",
              "      <th>ps_calc_13</th>\n",
              "      <th>ps_calc_14</th>\n",
              "      <th>ps_calc_15_bin</th>\n",
              "      <th>ps_calc_16_bin</th>\n",
              "      <th>ps_calc_17_bin</th>\n",
              "      <th>ps_calc_18_bin</th>\n",
              "      <th>ps_calc_19_bin</th>\n",
              "      <th>ps_calc_20_bin</th>\n",
              "    </tr>\n",
              "    <tr>\n",
              "      <th>id</th>\n",
              "      <th></th>\n",
              "      <th></th>\n",
              "      <th></th>\n",
              "      <th></th>\n",
              "      <th></th>\n",
              "      <th></th>\n",
              "      <th></th>\n",
              "      <th></th>\n",
              "      <th></th>\n",
              "      <th></th>\n",
              "      <th></th>\n",
              "      <th></th>\n",
              "      <th></th>\n",
              "      <th></th>\n",
              "      <th></th>\n",
              "      <th></th>\n",
              "      <th></th>\n",
              "      <th></th>\n",
              "      <th></th>\n",
              "      <th></th>\n",
              "      <th></th>\n",
              "    </tr>\n",
              "  </thead>\n",
              "  <tbody>\n",
              "    <tr>\n",
              "      <th>7</th>\n",
              "      <td>0</td>\n",
              "      <td>2</td>\n",
              "      <td>2</td>\n",
              "      <td>5</td>\n",
              "      <td>1</td>\n",
              "      <td>0</td>\n",
              "      <td>0</td>\n",
              "      <td>1</td>\n",
              "      <td>0</td>\n",
              "      <td>0</td>\n",
              "      <td>...</td>\n",
              "      <td>9</td>\n",
              "      <td>1</td>\n",
              "      <td>5</td>\n",
              "      <td>8</td>\n",
              "      <td>0</td>\n",
              "      <td>1</td>\n",
              "      <td>1</td>\n",
              "      <td>0</td>\n",
              "      <td>0</td>\n",
              "      <td>1</td>\n",
              "    </tr>\n",
              "    <tr>\n",
              "      <th>9</th>\n",
              "      <td>0</td>\n",
              "      <td>1</td>\n",
              "      <td>1</td>\n",
              "      <td>7</td>\n",
              "      <td>0</td>\n",
              "      <td>0</td>\n",
              "      <td>0</td>\n",
              "      <td>0</td>\n",
              "      <td>1</td>\n",
              "      <td>0</td>\n",
              "      <td>...</td>\n",
              "      <td>3</td>\n",
              "      <td>1</td>\n",
              "      <td>1</td>\n",
              "      <td>9</td>\n",
              "      <td>0</td>\n",
              "      <td>1</td>\n",
              "      <td>1</td>\n",
              "      <td>0</td>\n",
              "      <td>1</td>\n",
              "      <td>0</td>\n",
              "    </tr>\n",
              "    <tr>\n",
              "      <th>13</th>\n",
              "      <td>0</td>\n",
              "      <td>5</td>\n",
              "      <td>4</td>\n",
              "      <td>9</td>\n",
              "      <td>1</td>\n",
              "      <td>0</td>\n",
              "      <td>0</td>\n",
              "      <td>0</td>\n",
              "      <td>1</td>\n",
              "      <td>0</td>\n",
              "      <td>...</td>\n",
              "      <td>4</td>\n",
              "      <td>2</td>\n",
              "      <td>7</td>\n",
              "      <td>7</td>\n",
              "      <td>0</td>\n",
              "      <td>1</td>\n",
              "      <td>1</td>\n",
              "      <td>0</td>\n",
              "      <td>1</td>\n",
              "      <td>0</td>\n",
              "    </tr>\n",
              "    <tr>\n",
              "      <th>16</th>\n",
              "      <td>0</td>\n",
              "      <td>0</td>\n",
              "      <td>1</td>\n",
              "      <td>2</td>\n",
              "      <td>0</td>\n",
              "      <td>0</td>\n",
              "      <td>1</td>\n",
              "      <td>0</td>\n",
              "      <td>0</td>\n",
              "      <td>0</td>\n",
              "      <td>...</td>\n",
              "      <td>2</td>\n",
              "      <td>2</td>\n",
              "      <td>4</td>\n",
              "      <td>9</td>\n",
              "      <td>0</td>\n",
              "      <td>0</td>\n",
              "      <td>0</td>\n",
              "      <td>0</td>\n",
              "      <td>0</td>\n",
              "      <td>0</td>\n",
              "    </tr>\n",
              "    <tr>\n",
              "      <th>17</th>\n",
              "      <td>0</td>\n",
              "      <td>0</td>\n",
              "      <td>2</td>\n",
              "      <td>0</td>\n",
              "      <td>1</td>\n",
              "      <td>0</td>\n",
              "      <td>1</td>\n",
              "      <td>0</td>\n",
              "      <td>0</td>\n",
              "      <td>0</td>\n",
              "      <td>...</td>\n",
              "      <td>3</td>\n",
              "      <td>1</td>\n",
              "      <td>1</td>\n",
              "      <td>3</td>\n",
              "      <td>0</td>\n",
              "      <td>0</td>\n",
              "      <td>0</td>\n",
              "      <td>1</td>\n",
              "      <td>1</td>\n",
              "      <td>0</td>\n",
              "    </tr>\n",
              "  </tbody>\n",
              "</table>\n",
              "<p>5 rows × 58 columns</p>\n",
              "</div>\n",
              "      <button class=\"colab-df-convert\" onclick=\"convertToInteractive('df-5a576bd8-9c58-4ec0-9155-cfc0dbb91544')\"\n",
              "              title=\"Convert this dataframe to an interactive table.\"\n",
              "              style=\"display:none;\">\n",
              "        \n",
              "  <svg xmlns=\"http://www.w3.org/2000/svg\" height=\"24px\"viewBox=\"0 0 24 24\"\n",
              "       width=\"24px\">\n",
              "    <path d=\"M0 0h24v24H0V0z\" fill=\"none\"/>\n",
              "    <path d=\"M18.56 5.44l.94 2.06.94-2.06 2.06-.94-2.06-.94-.94-2.06-.94 2.06-2.06.94zm-11 1L8.5 8.5l.94-2.06 2.06-.94-2.06-.94L8.5 2.5l-.94 2.06-2.06.94zm10 10l.94 2.06.94-2.06 2.06-.94-2.06-.94-.94-2.06-.94 2.06-2.06.94z\"/><path d=\"M17.41 7.96l-1.37-1.37c-.4-.4-.92-.59-1.43-.59-.52 0-1.04.2-1.43.59L10.3 9.45l-7.72 7.72c-.78.78-.78 2.05 0 2.83L4 21.41c.39.39.9.59 1.41.59.51 0 1.02-.2 1.41-.59l7.78-7.78 2.81-2.81c.8-.78.8-2.07 0-2.86zM5.41 20L4 18.59l7.72-7.72 1.47 1.35L5.41 20z\"/>\n",
              "  </svg>\n",
              "      </button>\n",
              "      \n",
              "  <style>\n",
              "    .colab-df-container {\n",
              "      display:flex;\n",
              "      flex-wrap:wrap;\n",
              "      gap: 12px;\n",
              "    }\n",
              "\n",
              "    .colab-df-convert {\n",
              "      background-color: #E8F0FE;\n",
              "      border: none;\n",
              "      border-radius: 50%;\n",
              "      cursor: pointer;\n",
              "      display: none;\n",
              "      fill: #1967D2;\n",
              "      height: 32px;\n",
              "      padding: 0 0 0 0;\n",
              "      width: 32px;\n",
              "    }\n",
              "\n",
              "    .colab-df-convert:hover {\n",
              "      background-color: #E2EBFA;\n",
              "      box-shadow: 0px 1px 2px rgba(60, 64, 67, 0.3), 0px 1px 3px 1px rgba(60, 64, 67, 0.15);\n",
              "      fill: #174EA6;\n",
              "    }\n",
              "\n",
              "    [theme=dark] .colab-df-convert {\n",
              "      background-color: #3B4455;\n",
              "      fill: #D2E3FC;\n",
              "    }\n",
              "\n",
              "    [theme=dark] .colab-df-convert:hover {\n",
              "      background-color: #434B5C;\n",
              "      box-shadow: 0px 1px 3px 1px rgba(0, 0, 0, 0.15);\n",
              "      filter: drop-shadow(0px 1px 2px rgba(0, 0, 0, 0.3));\n",
              "      fill: #FFFFFF;\n",
              "    }\n",
              "  </style>\n",
              "\n",
              "      <script>\n",
              "        const buttonEl =\n",
              "          document.querySelector('#df-5a576bd8-9c58-4ec0-9155-cfc0dbb91544 button.colab-df-convert');\n",
              "        buttonEl.style.display =\n",
              "          google.colab.kernel.accessAllowed ? 'block' : 'none';\n",
              "\n",
              "        async function convertToInteractive(key) {\n",
              "          const element = document.querySelector('#df-5a576bd8-9c58-4ec0-9155-cfc0dbb91544');\n",
              "          const dataTable =\n",
              "            await google.colab.kernel.invokeFunction('convertToInteractive',\n",
              "                                                     [key], {});\n",
              "          if (!dataTable) return;\n",
              "\n",
              "          const docLinkHtml = 'Like what you see? Visit the ' +\n",
              "            '<a target=\"_blank\" href=https://colab.research.google.com/notebooks/data_table.ipynb>data table notebook</a>'\n",
              "            + ' to learn more about interactive tables.';\n",
              "          element.innerHTML = '';\n",
              "          dataTable['output_type'] = 'display_data';\n",
              "          await google.colab.output.renderOutput(dataTable, element);\n",
              "          const docLink = document.createElement('div');\n",
              "          docLink.innerHTML = docLinkHtml;\n",
              "          element.appendChild(docLink);\n",
              "        }\n",
              "      </script>\n",
              "    </div>\n",
              "  </div>\n",
              "  "
            ]
          },
          "metadata": {},
          "execution_count": 19
        }
      ]
    },
    {
      "cell_type": "code",
      "source": [
        "test.head()"
      ],
      "metadata": {
        "colab": {
          "base_uri": "https://localhost:8080/",
          "height": 331
        },
        "id": "jHg8YX12hkdu",
        "outputId": "a2cfaed2-fbc0-4d30-b1b7-561b1e43c0a2"
      },
      "execution_count": null,
      "outputs": [
        {
          "output_type": "execute_result",
          "data": {
            "text/plain": [
              "    ps_ind_01  ps_ind_02_cat  ps_ind_03  ps_ind_04_cat  ps_ind_05_cat  \\\n",
              "id                                                                      \n",
              "0           0              1          8              1              0   \n",
              "1           4              2          5              1              0   \n",
              "2           5              1          3              0              0   \n",
              "3           0              1          6              0              0   \n",
              "4           5              1          7              0              0   \n",
              "\n",
              "    ps_ind_06_bin  ps_ind_07_bin  ps_ind_08_bin  ps_ind_09_bin  ps_ind_10_bin  \\\n",
              "id                                                                              \n",
              "0               0              1              0              0              0   \n",
              "1               0              0              0              1              0   \n",
              "2               0              0              0              1              0   \n",
              "3               1              0              0              0              0   \n",
              "4               0              0              0              1              0   \n",
              "\n",
              "    ...  ps_calc_11  ps_calc_12  ps_calc_13  ps_calc_14  ps_calc_15_bin  \\\n",
              "id  ...                                                                   \n",
              "0   ...           1           1           1          12               0   \n",
              "1   ...           2           0           3          10               0   \n",
              "2   ...           4           0           2           4               0   \n",
              "3   ...           5           1           0           5               1   \n",
              "4   ...           4           0           0           4               0   \n",
              "\n",
              "    ps_calc_16_bin  ps_calc_17_bin  ps_calc_18_bin  ps_calc_19_bin  \\\n",
              "id                                                                   \n",
              "0                1               1               0               0   \n",
              "1                0               1               1               0   \n",
              "2                0               0               0               0   \n",
              "3                0               1               0               0   \n",
              "4                1               1               0               0   \n",
              "\n",
              "    ps_calc_20_bin  \n",
              "id                  \n",
              "0                1  \n",
              "1                1  \n",
              "2                0  \n",
              "3                0  \n",
              "4                1  \n",
              "\n",
              "[5 rows x 57 columns]"
            ],
            "text/html": [
              "\n",
              "  <div id=\"df-a489af97-7072-4dd0-a5ce-802e5251e424\">\n",
              "    <div class=\"colab-df-container\">\n",
              "      <div>\n",
              "<style scoped>\n",
              "    .dataframe tbody tr th:only-of-type {\n",
              "        vertical-align: middle;\n",
              "    }\n",
              "\n",
              "    .dataframe tbody tr th {\n",
              "        vertical-align: top;\n",
              "    }\n",
              "\n",
              "    .dataframe thead th {\n",
              "        text-align: right;\n",
              "    }\n",
              "</style>\n",
              "<table border=\"1\" class=\"dataframe\">\n",
              "  <thead>\n",
              "    <tr style=\"text-align: right;\">\n",
              "      <th></th>\n",
              "      <th>ps_ind_01</th>\n",
              "      <th>ps_ind_02_cat</th>\n",
              "      <th>ps_ind_03</th>\n",
              "      <th>ps_ind_04_cat</th>\n",
              "      <th>ps_ind_05_cat</th>\n",
              "      <th>ps_ind_06_bin</th>\n",
              "      <th>ps_ind_07_bin</th>\n",
              "      <th>ps_ind_08_bin</th>\n",
              "      <th>ps_ind_09_bin</th>\n",
              "      <th>ps_ind_10_bin</th>\n",
              "      <th>...</th>\n",
              "      <th>ps_calc_11</th>\n",
              "      <th>ps_calc_12</th>\n",
              "      <th>ps_calc_13</th>\n",
              "      <th>ps_calc_14</th>\n",
              "      <th>ps_calc_15_bin</th>\n",
              "      <th>ps_calc_16_bin</th>\n",
              "      <th>ps_calc_17_bin</th>\n",
              "      <th>ps_calc_18_bin</th>\n",
              "      <th>ps_calc_19_bin</th>\n",
              "      <th>ps_calc_20_bin</th>\n",
              "    </tr>\n",
              "    <tr>\n",
              "      <th>id</th>\n",
              "      <th></th>\n",
              "      <th></th>\n",
              "      <th></th>\n",
              "      <th></th>\n",
              "      <th></th>\n",
              "      <th></th>\n",
              "      <th></th>\n",
              "      <th></th>\n",
              "      <th></th>\n",
              "      <th></th>\n",
              "      <th></th>\n",
              "      <th></th>\n",
              "      <th></th>\n",
              "      <th></th>\n",
              "      <th></th>\n",
              "      <th></th>\n",
              "      <th></th>\n",
              "      <th></th>\n",
              "      <th></th>\n",
              "      <th></th>\n",
              "      <th></th>\n",
              "    </tr>\n",
              "  </thead>\n",
              "  <tbody>\n",
              "    <tr>\n",
              "      <th>0</th>\n",
              "      <td>0</td>\n",
              "      <td>1</td>\n",
              "      <td>8</td>\n",
              "      <td>1</td>\n",
              "      <td>0</td>\n",
              "      <td>0</td>\n",
              "      <td>1</td>\n",
              "      <td>0</td>\n",
              "      <td>0</td>\n",
              "      <td>0</td>\n",
              "      <td>...</td>\n",
              "      <td>1</td>\n",
              "      <td>1</td>\n",
              "      <td>1</td>\n",
              "      <td>12</td>\n",
              "      <td>0</td>\n",
              "      <td>1</td>\n",
              "      <td>1</td>\n",
              "      <td>0</td>\n",
              "      <td>0</td>\n",
              "      <td>1</td>\n",
              "    </tr>\n",
              "    <tr>\n",
              "      <th>1</th>\n",
              "      <td>4</td>\n",
              "      <td>2</td>\n",
              "      <td>5</td>\n",
              "      <td>1</td>\n",
              "      <td>0</td>\n",
              "      <td>0</td>\n",
              "      <td>0</td>\n",
              "      <td>0</td>\n",
              "      <td>1</td>\n",
              "      <td>0</td>\n",
              "      <td>...</td>\n",
              "      <td>2</td>\n",
              "      <td>0</td>\n",
              "      <td>3</td>\n",
              "      <td>10</td>\n",
              "      <td>0</td>\n",
              "      <td>0</td>\n",
              "      <td>1</td>\n",
              "      <td>1</td>\n",
              "      <td>0</td>\n",
              "      <td>1</td>\n",
              "    </tr>\n",
              "    <tr>\n",
              "      <th>2</th>\n",
              "      <td>5</td>\n",
              "      <td>1</td>\n",
              "      <td>3</td>\n",
              "      <td>0</td>\n",
              "      <td>0</td>\n",
              "      <td>0</td>\n",
              "      <td>0</td>\n",
              "      <td>0</td>\n",
              "      <td>1</td>\n",
              "      <td>0</td>\n",
              "      <td>...</td>\n",
              "      <td>4</td>\n",
              "      <td>0</td>\n",
              "      <td>2</td>\n",
              "      <td>4</td>\n",
              "      <td>0</td>\n",
              "      <td>0</td>\n",
              "      <td>0</td>\n",
              "      <td>0</td>\n",
              "      <td>0</td>\n",
              "      <td>0</td>\n",
              "    </tr>\n",
              "    <tr>\n",
              "      <th>3</th>\n",
              "      <td>0</td>\n",
              "      <td>1</td>\n",
              "      <td>6</td>\n",
              "      <td>0</td>\n",
              "      <td>0</td>\n",
              "      <td>1</td>\n",
              "      <td>0</td>\n",
              "      <td>0</td>\n",
              "      <td>0</td>\n",
              "      <td>0</td>\n",
              "      <td>...</td>\n",
              "      <td>5</td>\n",
              "      <td>1</td>\n",
              "      <td>0</td>\n",
              "      <td>5</td>\n",
              "      <td>1</td>\n",
              "      <td>0</td>\n",
              "      <td>1</td>\n",
              "      <td>0</td>\n",
              "      <td>0</td>\n",
              "      <td>0</td>\n",
              "    </tr>\n",
              "    <tr>\n",
              "      <th>4</th>\n",
              "      <td>5</td>\n",
              "      <td>1</td>\n",
              "      <td>7</td>\n",
              "      <td>0</td>\n",
              "      <td>0</td>\n",
              "      <td>0</td>\n",
              "      <td>0</td>\n",
              "      <td>0</td>\n",
              "      <td>1</td>\n",
              "      <td>0</td>\n",
              "      <td>...</td>\n",
              "      <td>4</td>\n",
              "      <td>0</td>\n",
              "      <td>0</td>\n",
              "      <td>4</td>\n",
              "      <td>0</td>\n",
              "      <td>1</td>\n",
              "      <td>1</td>\n",
              "      <td>0</td>\n",
              "      <td>0</td>\n",
              "      <td>1</td>\n",
              "    </tr>\n",
              "  </tbody>\n",
              "</table>\n",
              "<p>5 rows × 57 columns</p>\n",
              "</div>\n",
              "      <button class=\"colab-df-convert\" onclick=\"convertToInteractive('df-a489af97-7072-4dd0-a5ce-802e5251e424')\"\n",
              "              title=\"Convert this dataframe to an interactive table.\"\n",
              "              style=\"display:none;\">\n",
              "        \n",
              "  <svg xmlns=\"http://www.w3.org/2000/svg\" height=\"24px\"viewBox=\"0 0 24 24\"\n",
              "       width=\"24px\">\n",
              "    <path d=\"M0 0h24v24H0V0z\" fill=\"none\"/>\n",
              "    <path d=\"M18.56 5.44l.94 2.06.94-2.06 2.06-.94-2.06-.94-.94-2.06-.94 2.06-2.06.94zm-11 1L8.5 8.5l.94-2.06 2.06-.94-2.06-.94L8.5 2.5l-.94 2.06-2.06.94zm10 10l.94 2.06.94-2.06 2.06-.94-2.06-.94-.94-2.06-.94 2.06-2.06.94z\"/><path d=\"M17.41 7.96l-1.37-1.37c-.4-.4-.92-.59-1.43-.59-.52 0-1.04.2-1.43.59L10.3 9.45l-7.72 7.72c-.78.78-.78 2.05 0 2.83L4 21.41c.39.39.9.59 1.41.59.51 0 1.02-.2 1.41-.59l7.78-7.78 2.81-2.81c.8-.78.8-2.07 0-2.86zM5.41 20L4 18.59l7.72-7.72 1.47 1.35L5.41 20z\"/>\n",
              "  </svg>\n",
              "      </button>\n",
              "      \n",
              "  <style>\n",
              "    .colab-df-container {\n",
              "      display:flex;\n",
              "      flex-wrap:wrap;\n",
              "      gap: 12px;\n",
              "    }\n",
              "\n",
              "    .colab-df-convert {\n",
              "      background-color: #E8F0FE;\n",
              "      border: none;\n",
              "      border-radius: 50%;\n",
              "      cursor: pointer;\n",
              "      display: none;\n",
              "      fill: #1967D2;\n",
              "      height: 32px;\n",
              "      padding: 0 0 0 0;\n",
              "      width: 32px;\n",
              "    }\n",
              "\n",
              "    .colab-df-convert:hover {\n",
              "      background-color: #E2EBFA;\n",
              "      box-shadow: 0px 1px 2px rgba(60, 64, 67, 0.3), 0px 1px 3px 1px rgba(60, 64, 67, 0.15);\n",
              "      fill: #174EA6;\n",
              "    }\n",
              "\n",
              "    [theme=dark] .colab-df-convert {\n",
              "      background-color: #3B4455;\n",
              "      fill: #D2E3FC;\n",
              "    }\n",
              "\n",
              "    [theme=dark] .colab-df-convert:hover {\n",
              "      background-color: #434B5C;\n",
              "      box-shadow: 0px 1px 3px 1px rgba(0, 0, 0, 0.15);\n",
              "      filter: drop-shadow(0px 1px 2px rgba(0, 0, 0, 0.3));\n",
              "      fill: #FFFFFF;\n",
              "    }\n",
              "  </style>\n",
              "\n",
              "      <script>\n",
              "        const buttonEl =\n",
              "          document.querySelector('#df-a489af97-7072-4dd0-a5ce-802e5251e424 button.colab-df-convert');\n",
              "        buttonEl.style.display =\n",
              "          google.colab.kernel.accessAllowed ? 'block' : 'none';\n",
              "\n",
              "        async function convertToInteractive(key) {\n",
              "          const element = document.querySelector('#df-a489af97-7072-4dd0-a5ce-802e5251e424');\n",
              "          const dataTable =\n",
              "            await google.colab.kernel.invokeFunction('convertToInteractive',\n",
              "                                                     [key], {});\n",
              "          if (!dataTable) return;\n",
              "\n",
              "          const docLinkHtml = 'Like what you see? Visit the ' +\n",
              "            '<a target=\"_blank\" href=https://colab.research.google.com/notebooks/data_table.ipynb>data table notebook</a>'\n",
              "            + ' to learn more about interactive tables.';\n",
              "          element.innerHTML = '';\n",
              "          dataTable['output_type'] = 'display_data';\n",
              "          await google.colab.output.renderOutput(dataTable, element);\n",
              "          const docLink = document.createElement('div');\n",
              "          docLink.innerHTML = docLinkHtml;\n",
              "          element.appendChild(docLink);\n",
              "        }\n",
              "      </script>\n",
              "    </div>\n",
              "  </div>\n",
              "  "
            ]
          },
          "metadata": {},
          "execution_count": 20
        }
      ]
    },
    {
      "cell_type": "code",
      "source": [
        "#0은 청구하지 않은 경우, 1은 청구하는 경우\n",
        "\n",
        "submission.head()"
      ],
      "metadata": {
        "colab": {
          "base_uri": "https://localhost:8080/",
          "height": 238
        },
        "id": "h6y6WHWkhpe_",
        "outputId": "8ac3a9a5-d5cc-4de0-cbdf-11847f887c73"
      },
      "execution_count": null,
      "outputs": [
        {
          "output_type": "execute_result",
          "data": {
            "text/plain": [
              "    target\n",
              "id        \n",
              "0   0.0364\n",
              "1   0.0364\n",
              "2   0.0364\n",
              "3   0.0364\n",
              "4   0.0364"
            ],
            "text/html": [
              "\n",
              "  <div id=\"df-6959d12e-fd8b-4c36-b8a1-60fe714a3874\">\n",
              "    <div class=\"colab-df-container\">\n",
              "      <div>\n",
              "<style scoped>\n",
              "    .dataframe tbody tr th:only-of-type {\n",
              "        vertical-align: middle;\n",
              "    }\n",
              "\n",
              "    .dataframe tbody tr th {\n",
              "        vertical-align: top;\n",
              "    }\n",
              "\n",
              "    .dataframe thead th {\n",
              "        text-align: right;\n",
              "    }\n",
              "</style>\n",
              "<table border=\"1\" class=\"dataframe\">\n",
              "  <thead>\n",
              "    <tr style=\"text-align: right;\">\n",
              "      <th></th>\n",
              "      <th>target</th>\n",
              "    </tr>\n",
              "    <tr>\n",
              "      <th>id</th>\n",
              "      <th></th>\n",
              "    </tr>\n",
              "  </thead>\n",
              "  <tbody>\n",
              "    <tr>\n",
              "      <th>0</th>\n",
              "      <td>0.0364</td>\n",
              "    </tr>\n",
              "    <tr>\n",
              "      <th>1</th>\n",
              "      <td>0.0364</td>\n",
              "    </tr>\n",
              "    <tr>\n",
              "      <th>2</th>\n",
              "      <td>0.0364</td>\n",
              "    </tr>\n",
              "    <tr>\n",
              "      <th>3</th>\n",
              "      <td>0.0364</td>\n",
              "    </tr>\n",
              "    <tr>\n",
              "      <th>4</th>\n",
              "      <td>0.0364</td>\n",
              "    </tr>\n",
              "  </tbody>\n",
              "</table>\n",
              "</div>\n",
              "      <button class=\"colab-df-convert\" onclick=\"convertToInteractive('df-6959d12e-fd8b-4c36-b8a1-60fe714a3874')\"\n",
              "              title=\"Convert this dataframe to an interactive table.\"\n",
              "              style=\"display:none;\">\n",
              "        \n",
              "  <svg xmlns=\"http://www.w3.org/2000/svg\" height=\"24px\"viewBox=\"0 0 24 24\"\n",
              "       width=\"24px\">\n",
              "    <path d=\"M0 0h24v24H0V0z\" fill=\"none\"/>\n",
              "    <path d=\"M18.56 5.44l.94 2.06.94-2.06 2.06-.94-2.06-.94-.94-2.06-.94 2.06-2.06.94zm-11 1L8.5 8.5l.94-2.06 2.06-.94-2.06-.94L8.5 2.5l-.94 2.06-2.06.94zm10 10l.94 2.06.94-2.06 2.06-.94-2.06-.94-.94-2.06-.94 2.06-2.06.94z\"/><path d=\"M17.41 7.96l-1.37-1.37c-.4-.4-.92-.59-1.43-.59-.52 0-1.04.2-1.43.59L10.3 9.45l-7.72 7.72c-.78.78-.78 2.05 0 2.83L4 21.41c.39.39.9.59 1.41.59.51 0 1.02-.2 1.41-.59l7.78-7.78 2.81-2.81c.8-.78.8-2.07 0-2.86zM5.41 20L4 18.59l7.72-7.72 1.47 1.35L5.41 20z\"/>\n",
              "  </svg>\n",
              "      </button>\n",
              "      \n",
              "  <style>\n",
              "    .colab-df-container {\n",
              "      display:flex;\n",
              "      flex-wrap:wrap;\n",
              "      gap: 12px;\n",
              "    }\n",
              "\n",
              "    .colab-df-convert {\n",
              "      background-color: #E8F0FE;\n",
              "      border: none;\n",
              "      border-radius: 50%;\n",
              "      cursor: pointer;\n",
              "      display: none;\n",
              "      fill: #1967D2;\n",
              "      height: 32px;\n",
              "      padding: 0 0 0 0;\n",
              "      width: 32px;\n",
              "    }\n",
              "\n",
              "    .colab-df-convert:hover {\n",
              "      background-color: #E2EBFA;\n",
              "      box-shadow: 0px 1px 2px rgba(60, 64, 67, 0.3), 0px 1px 3px 1px rgba(60, 64, 67, 0.15);\n",
              "      fill: #174EA6;\n",
              "    }\n",
              "\n",
              "    [theme=dark] .colab-df-convert {\n",
              "      background-color: #3B4455;\n",
              "      fill: #D2E3FC;\n",
              "    }\n",
              "\n",
              "    [theme=dark] .colab-df-convert:hover {\n",
              "      background-color: #434B5C;\n",
              "      box-shadow: 0px 1px 3px 1px rgba(0, 0, 0, 0.15);\n",
              "      filter: drop-shadow(0px 1px 2px rgba(0, 0, 0, 0.3));\n",
              "      fill: #FFFFFF;\n",
              "    }\n",
              "  </style>\n",
              "\n",
              "      <script>\n",
              "        const buttonEl =\n",
              "          document.querySelector('#df-6959d12e-fd8b-4c36-b8a1-60fe714a3874 button.colab-df-convert');\n",
              "        buttonEl.style.display =\n",
              "          google.colab.kernel.accessAllowed ? 'block' : 'none';\n",
              "\n",
              "        async function convertToInteractive(key) {\n",
              "          const element = document.querySelector('#df-6959d12e-fd8b-4c36-b8a1-60fe714a3874');\n",
              "          const dataTable =\n",
              "            await google.colab.kernel.invokeFunction('convertToInteractive',\n",
              "                                                     [key], {});\n",
              "          if (!dataTable) return;\n",
              "\n",
              "          const docLinkHtml = 'Like what you see? Visit the ' +\n",
              "            '<a target=\"_blank\" href=https://colab.research.google.com/notebooks/data_table.ipynb>data table notebook</a>'\n",
              "            + ' to learn more about interactive tables.';\n",
              "          element.innerHTML = '';\n",
              "          dataTable['output_type'] = 'display_data';\n",
              "          await google.colab.output.renderOutput(dataTable, element);\n",
              "          const docLink = document.createElement('div');\n",
              "          docLink.innerHTML = docLinkHtml;\n",
              "          element.appendChild(docLink);\n",
              "        }\n",
              "      </script>\n",
              "    </div>\n",
              "  </div>\n",
              "  "
            ]
          },
          "metadata": {},
          "execution_count": 21
        }
      ]
    },
    {
      "cell_type": "code",
      "source": [
        "train.info()"
      ],
      "metadata": {
        "colab": {
          "base_uri": "https://localhost:8080/"
        },
        "id": "fCaK-3U2hvDx",
        "outputId": "eb8d67fc-577a-4424-c52a-becc80c32b76"
      },
      "execution_count": null,
      "outputs": [
        {
          "output_type": "stream",
          "name": "stdout",
          "text": [
            "<class 'pandas.core.frame.DataFrame'>\n",
            "Int64Index: 595212 entries, 7 to 1488027\n",
            "Data columns (total 58 columns):\n",
            " #   Column          Non-Null Count   Dtype  \n",
            "---  ------          --------------   -----  \n",
            " 0   target          595212 non-null  int64  \n",
            " 1   ps_ind_01       595212 non-null  int64  \n",
            " 2   ps_ind_02_cat   595212 non-null  int64  \n",
            " 3   ps_ind_03       595212 non-null  int64  \n",
            " 4   ps_ind_04_cat   595212 non-null  int64  \n",
            " 5   ps_ind_05_cat   595212 non-null  int64  \n",
            " 6   ps_ind_06_bin   595212 non-null  int64  \n",
            " 7   ps_ind_07_bin   595212 non-null  int64  \n",
            " 8   ps_ind_08_bin   595212 non-null  int64  \n",
            " 9   ps_ind_09_bin   595212 non-null  int64  \n",
            " 10  ps_ind_10_bin   595212 non-null  int64  \n",
            " 11  ps_ind_11_bin   595212 non-null  int64  \n",
            " 12  ps_ind_12_bin   595212 non-null  int64  \n",
            " 13  ps_ind_13_bin   595212 non-null  int64  \n",
            " 14  ps_ind_14       595212 non-null  int64  \n",
            " 15  ps_ind_15       595212 non-null  int64  \n",
            " 16  ps_ind_16_bin   595212 non-null  int64  \n",
            " 17  ps_ind_17_bin   595212 non-null  int64  \n",
            " 18  ps_ind_18_bin   595212 non-null  int64  \n",
            " 19  ps_reg_01       595212 non-null  float64\n",
            " 20  ps_reg_02       595212 non-null  float64\n",
            " 21  ps_reg_03       595212 non-null  float64\n",
            " 22  ps_car_01_cat   595212 non-null  int64  \n",
            " 23  ps_car_02_cat   595212 non-null  int64  \n",
            " 24  ps_car_03_cat   595212 non-null  int64  \n",
            " 25  ps_car_04_cat   595212 non-null  int64  \n",
            " 26  ps_car_05_cat   595212 non-null  int64  \n",
            " 27  ps_car_06_cat   595212 non-null  int64  \n",
            " 28  ps_car_07_cat   595212 non-null  int64  \n",
            " 29  ps_car_08_cat   595212 non-null  int64  \n",
            " 30  ps_car_09_cat   595212 non-null  int64  \n",
            " 31  ps_car_10_cat   595212 non-null  int64  \n",
            " 32  ps_car_11_cat   595212 non-null  int64  \n",
            " 33  ps_car_11       595212 non-null  int64  \n",
            " 34  ps_car_12       595212 non-null  float64\n",
            " 35  ps_car_13       595212 non-null  float64\n",
            " 36  ps_car_14       595212 non-null  float64\n",
            " 37  ps_car_15       595212 non-null  float64\n",
            " 38  ps_calc_01      595212 non-null  float64\n",
            " 39  ps_calc_02      595212 non-null  float64\n",
            " 40  ps_calc_03      595212 non-null  float64\n",
            " 41  ps_calc_04      595212 non-null  int64  \n",
            " 42  ps_calc_05      595212 non-null  int64  \n",
            " 43  ps_calc_06      595212 non-null  int64  \n",
            " 44  ps_calc_07      595212 non-null  int64  \n",
            " 45  ps_calc_08      595212 non-null  int64  \n",
            " 46  ps_calc_09      595212 non-null  int64  \n",
            " 47  ps_calc_10      595212 non-null  int64  \n",
            " 48  ps_calc_11      595212 non-null  int64  \n",
            " 49  ps_calc_12      595212 non-null  int64  \n",
            " 50  ps_calc_13      595212 non-null  int64  \n",
            " 51  ps_calc_14      595212 non-null  int64  \n",
            " 52  ps_calc_15_bin  595212 non-null  int64  \n",
            " 53  ps_calc_16_bin  595212 non-null  int64  \n",
            " 54  ps_calc_17_bin  595212 non-null  int64  \n",
            " 55  ps_calc_18_bin  595212 non-null  int64  \n",
            " 56  ps_calc_19_bin  595212 non-null  int64  \n",
            " 57  ps_calc_20_bin  595212 non-null  int64  \n",
            "dtypes: float64(10), int64(48)\n",
            "memory usage: 267.9 MB\n"
          ]
        }
      ]
    },
    {
      "cell_type": "code",
      "source": [
        "import numpy as np\n",
        "import missingno as msno\n",
        "\n",
        "#결측치 확인\n",
        "train_copy = train.copy().replace(-1, np.NaN)\n",
        "msno.bar(df=train_copy.iloc[:,1:29], figsize=(13,6));\n",
        "\n",
        "#높이가 낮을수록 결측값이 많다는 것."
      ],
      "metadata": {
        "colab": {
          "base_uri": "https://localhost:8080/",
          "height": 517
        },
        "id": "x8_dzHoPh_9e",
        "outputId": "377eddf9-6edb-40e4-853a-35c9602428fc"
      },
      "execution_count": null,
      "outputs": [
        {
          "output_type": "display_data",
          "data": {
            "text/plain": [
              "<Figure size 936x432 with 3 Axes>"
            ],
            "image/png": "[encoded data removed]"
          },
          "metadata": {
            "needs_background": "light"
          }
        }
      ]
    },
    {
      "cell_type": "code",
      "source": [
        "#나머지 피처들의 결측값\n",
        "msno.bar(df=train_copy.iloc[:,29:], figsize=(13,6));"
      ],
      "metadata": {
        "colab": {
          "base_uri": "https://localhost:8080/",
          "height": 521
        },
        "id": "aM0NjmvXjKNV",
        "outputId": "487171b5-ae74-46fb-e282-8f923ff065b8"
      },
      "execution_count": null,
      "outputs": [
        {
          "output_type": "display_data",
          "data": {
            "text/plain": [
              "<Figure size 936x432 with 3 Axes>"
            ],
            "image/png": "[encoded data removed]"
          },
          "metadata": {
            "needs_background": "light"
          }
        }
      ]
    },
    {
      "cell_type": "code",
      "source": [
        "#피처 요약표\n",
        "def resumetable(df):\n",
        "  print(f'데이터셋 형상: {df.shape}')\n",
        "  summary = pd.DataFrame(df.dtypes, columns=['데이터 타입'])\n",
        "  summary['결측값 개수'] = (df==-1).sum().values\n",
        "  summary['고윳값 개수'] = df.nunique().values\n",
        "  summary['데이터 종류'] = None\n",
        "  for col in df.columns:\n",
        "    if 'bin' in col or col == 'target':\n",
        "      summary.loc[col, '데이터 종류'] = '이진형'\n",
        "    elif 'cat' in col:\n",
        "      summary.loc[col, '데이터 종류'] = '명목형'\n",
        "    elif df[col].dtype == float:\n",
        "      summary.loc[col, '데이터 종류'] = '연속형'\n",
        "    elif df[col].dtype == int:\n",
        "      summary.loc[col, '데이터 종류'] = '순서형'\n",
        "\n",
        "  return summary"
      ],
      "metadata": {
        "id": "E4vWJwmojwui"
      },
      "execution_count": null,
      "outputs": []
    },
    {
      "cell_type": "code",
      "source": [
        "summary = resumetable(train)\n",
        "summary"
      ],
      "metadata": {
        "colab": {
          "base_uri": "https://localhost:8080/",
          "height": 1000
        },
        "id": "a56RqhBKlBEN",
        "outputId": "857ddffa-edb3-41f7-d5d8-949980777bb1"
      },
      "execution_count": null,
      "outputs": [
        {
          "output_type": "stream",
          "name": "stdout",
          "text": [
            "데이터셋 형상: (595212, 58)\n"
          ]
        },
        {
          "output_type": "execute_result",
          "data": {
            "text/plain": [
              "                 데이터 타입  결측값 개수  고윳값 개수 데이터 종류\n",
              "target            int64       0       2    이진형\n",
              "ps_ind_01         int64       0       8    순서형\n",
              "ps_ind_02_cat     int64     216       5    명목형\n",
              "ps_ind_03         int64       0      12    순서형\n",
              "ps_ind_04_cat     int64      83       3    명목형\n",
              "ps_ind_05_cat     int64    5809       8    명목형\n",
              "ps_ind_06_bin     int64       0       2    이진형\n",
              "ps_ind_07_bin     int64       0       2    이진형\n",
              "ps_ind_08_bin     int64       0       2    이진형\n",
              "ps_ind_09_bin     int64       0       2    이진형\n",
              "ps_ind_10_bin     int64       0       2    이진형\n",
              "ps_ind_11_bin     int64       0       2    이진형\n",
              "ps_ind_12_bin     int64       0       2    이진형\n",
              "ps_ind_13_bin     int64       0       2    이진형\n",
              "ps_ind_14         int64       0       5    순서형\n",
              "ps_ind_15         int64       0      14    순서형\n",
              "ps_ind_16_bin     int64       0       2    이진형\n",
              "ps_ind_17_bin     int64       0       2    이진형\n",
              "ps_ind_18_bin     int64       0       2    이진형\n",
              "ps_reg_01       float64       0      10    연속형\n",
              "ps_reg_02       float64       0      19    연속형\n",
              "ps_reg_03       float64  107772    5013    연속형\n",
              "ps_car_01_cat     int64     107      13    명목형\n",
              "ps_car_02_cat     int64       5       3    명목형\n",
              "ps_car_03_cat     int64  411231       3    명목형\n",
              "ps_car_04_cat     int64       0      10    명목형\n",
              "ps_car_05_cat     int64  266551       3    명목형\n",
              "ps_car_06_cat     int64       0      18    명목형\n",
              "ps_car_07_cat     int64   11489       3    명목형\n",
              "ps_car_08_cat     int64       0       2    명목형\n",
              "ps_car_09_cat     int64     569       6    명목형\n",
              "ps_car_10_cat     int64       0       3    명목형\n",
              "ps_car_11_cat     int64       0     104    명목형\n",
              "ps_car_11         int64       5       5    순서형\n",
              "ps_car_12       float64       1     184    연속형\n",
              "ps_car_13       float64       0   70482    연속형\n",
              "ps_car_14       float64   42620     850    연속형\n",
              "ps_car_15       float64       0      15    연속형\n",
              "ps_calc_01      float64       0      10    연속형\n",
              "ps_calc_02      float64       0      10    연속형\n",
              "ps_calc_03      float64       0      10    연속형\n",
              "ps_calc_04        int64       0       6    순서형\n",
              "ps_calc_05        int64       0       7    순서형\n",
              "ps_calc_06        int64       0      11    순서형\n",
              "ps_calc_07        int64       0      10    순서형\n",
              "ps_calc_08        int64       0      11    순서형\n",
              "ps_calc_09        int64       0       8    순서형\n",
              "ps_calc_10        int64       0      26    순서형\n",
              "ps_calc_11        int64       0      20    순서형\n",
              "ps_calc_12        int64       0      11    순서형\n",
              "ps_calc_13        int64       0      14    순서형\n",
              "ps_calc_14        int64       0      24    순서형\n",
              "ps_calc_15_bin    int64       0       2    이진형\n",
              "ps_calc_16_bin    int64       0       2    이진형\n",
              "ps_calc_17_bin    int64       0       2    이진형\n",
              "ps_calc_18_bin    int64       0       2    이진형\n",
              "ps_calc_19_bin    int64       0       2    이진형\n",
              "ps_calc_20_bin    int64       0       2    이진형"
            ],
            "text/html": [
              "\n",
              "  <div id=\"df-1be58f80-f239-4ad6-86a5-5fa0679d4090\">\n",
              "    <div class=\"colab-df-container\">\n",
              "      <div>\n",
              "<style scoped>\n",
              "    .dataframe tbody tr th:only-of-type {\n",
              "        vertical-align: middle;\n",
              "    }\n",
              "\n",
              "    .dataframe tbody tr th {\n",
              "        vertical-align: top;\n",
              "    }\n",
              "\n",
              "    .dataframe thead th {\n",
              "        text-align: right;\n",
              "    }\n",
              "</style>\n",
              "<table border=\"1\" class=\"dataframe\">\n",
              "  <thead>\n",
              "    <tr style=\"text-align: right;\">\n",
              "      <th></th>\n",
              "      <th>데이터 타입</th>\n",
              "      <th>결측값 개수</th>\n",
              "      <th>고윳값 개수</th>\n",
              "      <th>데이터 종류</th>\n",
              "    </tr>\n",
              "  </thead>\n",
              "  <tbody>\n",
              "    <tr>\n",
              "      <th>target</th>\n",
              "      <td>int64</td>\n",
              "      <td>0</td>\n",
              "      <td>2</td>\n",
              "      <td>이진형</td>\n",
              "    </tr>\n",
              "    <tr>\n",
              "      <th>ps_ind_01</th>\n",
              "      <td>int64</td>\n",
              "      <td>0</td>\n",
              "      <td>8</td>\n",
              "      <td>순서형</td>\n",
              "    </tr>\n",
              "    <tr>\n",
              "      <th>ps_ind_02_cat</th>\n",
              "      <td>int64</td>\n",
              "      <td>216</td>\n",
              "      <td>5</td>\n",
              "      <td>명목형</td>\n",
              "    </tr>\n",
              "    <tr>\n",
              "      <th>ps_ind_03</th>\n",
              "      <td>int64</td>\n",
              "      <td>0</td>\n",
              "      <td>12</td>\n",
              "      <td>순서형</td>\n",
              "    </tr>\n",
              "    <tr>\n",
              "      <th>ps_ind_04_cat</th>\n",
              "      <td>int64</td>\n",
              "      <td>83</td>\n",
              "      <td>3</td>\n",
              "      <td>명목형</td>\n",
              "    </tr>\n",
              "    <tr>\n",
              "      <th>ps_ind_05_cat</th>\n",
              "      <td>int64</td>\n",
              "      <td>5809</td>\n",
              "      <td>8</td>\n",
              "      <td>명목형</td>\n",
              "    </tr>\n",
              "    <tr>\n",
              "      <th>ps_ind_06_bin</th>\n",
              "      <td>int64</td>\n",
              "      <td>0</td>\n",
              "      <td>2</td>\n",
              "      <td>이진형</td>\n",
              "    </tr>\n",
              "    <tr>\n",
              "      <th>ps_ind_07_bin</th>\n",
              "      <td>int64</td>\n",
              "      <td>0</td>\n",
              "      <td>2</td>\n",
              "      <td>이진형</td>\n",
              "    </tr>\n",
              "    <tr>\n",
              "      <th>ps_ind_08_bin</th>\n",
              "      <td>int64</td>\n",
              "      <td>0</td>\n",
              "      <td>2</td>\n",
              "      <td>이진형</td>\n",
              "    </tr>\n",
              "    <tr>\n",
              "      <th>ps_ind_09_bin</th>\n",
              "      <td>int64</td>\n",
              "      <td>0</td>\n",
              "      <td>2</td>\n",
              "      <td>이진형</td>\n",
              "    </tr>\n",
              "    <tr>\n",
              "      <th>ps_ind_10_bin</th>\n",
              "      <td>int64</td>\n",
              "      <td>0</td>\n",
              "      <td>2</td>\n",
              "      <td>이진형</td>\n",
              "    </tr>\n",
              "    <tr>\n",
              "      <th>ps_ind_11_bin</th>\n",
              "      <td>int64</td>\n",
              "      <td>0</td>\n",
              "      <td>2</td>\n",
              "      <td>이진형</td>\n",
              "    </tr>\n",
              "    <tr>\n",
              "      <th>ps_ind_12_bin</th>\n",
              "      <td>int64</td>\n",
              "      <td>0</td>\n",
              "      <td>2</td>\n",
              "      <td>이진형</td>\n",
              "    </tr>\n",
              "    <tr>\n",
              "      <th>ps_ind_13_bin</th>\n",
              "      <td>int64</td>\n",
              "      <td>0</td>\n",
              "      <td>2</td>\n",
              "      <td>이진형</td>\n",
              "    </tr>\n",
              "    <tr>\n",
              "      <th>ps_ind_14</th>\n",
              "      <td>int64</td>\n",
              "      <td>0</td>\n",
              "      <td>5</td>\n",
              "      <td>순서형</td>\n",
              "    </tr>\n",
              "    <tr>\n",
              "      <th>ps_ind_15</th>\n",
              "      <td>int64</td>\n",
              "      <td>0</td>\n",
              "      <td>14</td>\n",
              "      <td>순서형</td>\n",
              "    </tr>\n",
              "    <tr>\n",
              "      <th>ps_ind_16_bin</th>\n",
              "      <td>int64</td>\n",
              "      <td>0</td>\n",
              "      <td>2</td>\n",
              "      <td>이진형</td>\n",
              "    </tr>\n",
              "    <tr>\n",
              "      <th>ps_ind_17_bin</th>\n",
              "      <td>int64</td>\n",
              "      <td>0</td>\n",
              "      <td>2</td>\n",
              "      <td>이진형</td>\n",
              "    </tr>\n",
              "    <tr>\n",
              "      <th>ps_ind_18_bin</th>\n",
              "      <td>int64</td>\n",
              "      <td>0</td>\n",
              "      <td>2</td>\n",
              "      <td>이진형</td>\n",
              "    </tr>\n",
              "    <tr>\n",
              "      <th>ps_reg_01</th>\n",
              "      <td>float64</td>\n",
              "      <td>0</td>\n",
              "      <td>10</td>\n",
              "      <td>연속형</td>\n",
              "    </tr>\n",
              "    <tr>\n",
              "      <th>ps_reg_02</th>\n",
              "      <td>float64</td>\n",
              "      <td>0</td>\n",
              "      <td>19</td>\n",
              "      <td>연속형</td>\n",
              "    </tr>\n",
              "    <tr>\n",
              "      <th>ps_reg_03</th>\n",
              "      <td>float64</td>\n",
              "      <td>107772</td>\n",
              "      <td>5013</td>\n",
              "      <td>연속형</td>\n",
              "    </tr>\n",
              "    <tr>\n",
              "      <th>ps_car_01_cat</th>\n",
              "      <td>int64</td>\n",
              "      <td>107</td>\n",
              "      <td>13</td>\n",
              "      <td>명목형</td>\n",
              "    </tr>\n",
              "    <tr>\n",
              "      <th>ps_car_02_cat</th>\n",
              "      <td>int64</td>\n",
              "      <td>5</td>\n",
              "      <td>3</td>\n",
              "      <td>명목형</td>\n",
              "    </tr>\n",
              "    <tr>\n",
              "      <th>ps_car_03_cat</th>\n",
              "      <td>int64</td>\n",
              "      <td>411231</td>\n",
              "      <td>3</td>\n",
              "      <td>명목형</td>\n",
              "    </tr>\n",
              "    <tr>\n",
              "      <th>ps_car_04_cat</th>\n",
              "      <td>int64</td>\n",
              "      <td>0</td>\n",
              "      <td>10</td>\n",
              "      <td>명목형</td>\n",
              "    </tr>\n",
              "    <tr>\n",
              "      <th>ps_car_05_cat</th>\n",
              "      <td>int64</td>\n",
              "      <td>266551</td>\n",
              "      <td>3</td>\n",
              "      <td>명목형</td>\n",
              "    </tr>\n",
              "    <tr>\n",
              "      <th>ps_car_06_cat</th>\n",
              "      <td>int64</td>\n",
              "      <td>0</td>\n",
              "      <td>18</td>\n",
              "      <td>명목형</td>\n",
              "    </tr>\n",
              "    <tr>\n",
              "      <th>ps_car_07_cat</th>\n",
              "      <td>int64</td>\n",
              "      <td>11489</td>\n",
              "      <td>3</td>\n",
              "      <td>명목형</td>\n",
              "    </tr>\n",
              "    <tr>\n",
              "      <th>ps_car_08_cat</th>\n",
              "      <td>int64</td>\n",
              "      <td>0</td>\n",
              "      <td>2</td>\n",
              "      <td>명목형</td>\n",
              "    </tr>\n",
              "    <tr>\n",
              "      <th>ps_car_09_cat</th>\n",
              "      <td>int64</td>\n",
              "      <td>569</td>\n",
              "      <td>6</td>\n",
              "      <td>명목형</td>\n",
              "    </tr>\n",
              "    <tr>\n",
              "      <th>ps_car_10_cat</th>\n",
              "      <td>int64</td>\n",
              "      <td>0</td>\n",
              "      <td>3</td>\n",
              "      <td>명목형</td>\n",
              "    </tr>\n",
              "    <tr>\n",
              "      <th>ps_car_11_cat</th>\n",
              "      <td>int64</td>\n",
              "      <td>0</td>\n",
              "      <td>104</td>\n",
              "      <td>명목형</td>\n",
              "    </tr>\n",
              "    <tr>\n",
              "      <th>ps_car_11</th>\n",
              "      <td>int64</td>\n",
              "      <td>5</td>\n",
              "      <td>5</td>\n",
              "      <td>순서형</td>\n",
              "    </tr>\n",
              "    <tr>\n",
              "      <th>ps_car_12</th>\n",
              "      <td>float64</td>\n",
              "      <td>1</td>\n",
              "      <td>184</td>\n",
              "      <td>연속형</td>\n",
              "    </tr>\n",
              "    <tr>\n",
              "      <th>ps_car_13</th>\n",
              "      <td>float64</td>\n",
              "      <td>0</td>\n",
              "      <td>70482</td>\n",
              "      <td>연속형</td>\n",
              "    </tr>\n",
              "    <tr>\n",
              "      <th>ps_car_14</th>\n",
              "      <td>float64</td>\n",
              "      <td>42620</td>\n",
              "      <td>850</td>\n",
              "      <td>연속형</td>\n",
              "    </tr>\n",
              "    <tr>\n",
              "      <th>ps_car_15</th>\n",
              "      <td>float64</td>\n",
              "      <td>0</td>\n",
              "      <td>15</td>\n",
              "      <td>연속형</td>\n",
              "    </tr>\n",
              "    <tr>\n",
              "      <th>ps_calc_01</th>\n",
              "      <td>float64</td>\n",
              "      <td>0</td>\n",
              "      <td>10</td>\n",
              "      <td>연속형</td>\n",
              "    </tr>\n",
              "    <tr>\n",
              "      <th>ps_calc_02</th>\n",
              "      <td>float64</td>\n",
              "      <td>0</td>\n",
              "      <td>10</td>\n",
              "      <td>연속형</td>\n",
              "    </tr>\n",
              "    <tr>\n",
              "      <th>ps_calc_03</th>\n",
              "      <td>float64</td>\n",
              "      <td>0</td>\n",
              "      <td>10</td>\n",
              "      <td>연속형</td>\n",
              "    </tr>\n",
              "    <tr>\n",
              "      <th>ps_calc_04</th>\n",
              "      <td>int64</td>\n",
              "      <td>0</td>\n",
              "      <td>6</td>\n",
              "      <td>순서형</td>\n",
              "    </tr>\n",
              "    <tr>\n",
              "      <th>ps_calc_05</th>\n",
              "      <td>int64</td>\n",
              "      <td>0</td>\n",
              "      <td>7</td>\n",
              "      <td>순서형</td>\n",
              "    </tr>\n",
              "    <tr>\n",
              "      <th>ps_calc_06</th>\n",
              "      <td>int64</td>\n",
              "      <td>0</td>\n",
              "      <td>11</td>\n",
              "      <td>순서형</td>\n",
              "    </tr>\n",
              "    <tr>\n",
              "      <th>ps_calc_07</th>\n",
              "      <td>int64</td>\n",
              "      <td>0</td>\n",
              "      <td>10</td>\n",
              "      <td>순서형</td>\n",
              "    </tr>\n",
              "    <tr>\n",
              "      <th>ps_calc_08</th>\n",
              "      <td>int64</td>\n",
              "      <td>0</td>\n",
              "      <td>11</td>\n",
              "      <td>순서형</td>\n",
              "    </tr>\n",
              "    <tr>\n",
              "      <th>ps_calc_09</th>\n",
              "      <td>int64</td>\n",
              "      <td>0</td>\n",
              "      <td>8</td>\n",
              "      <td>순서형</td>\n",
              "    </tr>\n",
              "    <tr>\n",
              "      <th>ps_calc_10</th>\n",
              "      <td>int64</td>\n",
              "      <td>0</td>\n",
              "      <td>26</td>\n",
              "      <td>순서형</td>\n",
              "    </tr>\n",
              "    <tr>\n",
              "      <th>ps_calc_11</th>\n",
              "      <td>int64</td>\n",
              "      <td>0</td>\n",
              "      <td>20</td>\n",
              "      <td>순서형</td>\n",
              "    </tr>\n",
              "    <tr>\n",
              "      <th>ps_calc_12</th>\n",
              "      <td>int64</td>\n",
              "      <td>0</td>\n",
              "      <td>11</td>\n",
              "      <td>순서형</td>\n",
              "    </tr>\n",
              "    <tr>\n",
              "      <th>ps_calc_13</th>\n",
              "      <td>int64</td>\n",
              "      <td>0</td>\n",
              "      <td>14</td>\n",
              "      <td>순서형</td>\n",
              "    </tr>\n",
              "    <tr>\n",
              "      <th>ps_calc_14</th>\n",
              "      <td>int64</td>\n",
              "      <td>0</td>\n",
              "      <td>24</td>\n",
              "      <td>순서형</td>\n",
              "    </tr>\n",
              "    <tr>\n",
              "      <th>ps_calc_15_bin</th>\n",
              "      <td>int64</td>\n",
              "      <td>0</td>\n",
              "      <td>2</td>\n",
              "      <td>이진형</td>\n",
              "    </tr>\n",
              "    <tr>\n",
              "      <th>ps_calc_16_bin</th>\n",
              "      <td>int64</td>\n",
              "      <td>0</td>\n",
              "      <td>2</td>\n",
              "      <td>이진형</td>\n",
              "    </tr>\n",
              "    <tr>\n",
              "      <th>ps_calc_17_bin</th>\n",
              "      <td>int64</td>\n",
              "      <td>0</td>\n",
              "      <td>2</td>\n",
              "      <td>이진형</td>\n",
              "    </tr>\n",
              "    <tr>\n",
              "      <th>ps_calc_18_bin</th>\n",
              "      <td>int64</td>\n",
              "      <td>0</td>\n",
              "      <td>2</td>\n",
              "      <td>이진형</td>\n",
              "    </tr>\n",
              "    <tr>\n",
              "      <th>ps_calc_19_bin</th>\n",
              "      <td>int64</td>\n",
              "      <td>0</td>\n",
              "      <td>2</td>\n",
              "      <td>이진형</td>\n",
              "    </tr>\n",
              "    <tr>\n",
              "      <th>ps_calc_20_bin</th>\n",
              "      <td>int64</td>\n",
              "      <td>0</td>\n",
              "      <td>2</td>\n",
              "      <td>이진형</td>\n",
              "    </tr>\n",
              "  </tbody>\n",
              "</table>\n",
              "</div>\n",
              "      <button class=\"colab-df-convert\" onclick=\"convertToInteractive('df-1be58f80-f239-4ad6-86a5-5fa0679d4090')\"\n",
              "              title=\"Convert this dataframe to an interactive table.\"\n",
              "              style=\"display:none;\">\n",
              "        \n",
              "  <svg xmlns=\"http://www.w3.org/2000/svg\" height=\"24px\"viewBox=\"0 0 24 24\"\n",
              "       width=\"24px\">\n",
              "    <path d=\"M0 0h24v24H0V0z\" fill=\"none\"/>\n",
              "    <path d=\"M18.56 5.44l.94 2.06.94-2.06 2.06-.94-2.06-.94-.94-2.06-.94 2.06-2.06.94zm-11 1L8.5 8.5l.94-2.06 2.06-.94-2.06-.94L8.5 2.5l-.94 2.06-2.06.94zm10 10l.94 2.06.94-2.06 2.06-.94-2.06-.94-.94-2.06-.94 2.06-2.06.94z\"/><path d=\"M17.41 7.96l-1.37-1.37c-.4-.4-.92-.59-1.43-.59-.52 0-1.04.2-1.43.59L10.3 9.45l-7.72 7.72c-.78.78-.78 2.05 0 2.83L4 21.41c.39.39.9.59 1.41.59.51 0 1.02-.2 1.41-.59l7.78-7.78 2.81-2.81c.8-.78.8-2.07 0-2.86zM5.41 20L4 18.59l7.72-7.72 1.47 1.35L5.41 20z\"/>\n",
              "  </svg>\n",
              "      </button>\n",
              "      \n",
              "  <style>\n",
              "    .colab-df-container {\n",
              "      display:flex;\n",
              "      flex-wrap:wrap;\n",
              "      gap: 12px;\n",
              "    }\n",
              "\n",
              "    .colab-df-convert {\n",
              "      background-color: #E8F0FE;\n",
              "      border: none;\n",
              "      border-radius: 50%;\n",
              "      cursor: pointer;\n",
              "      display: none;\n",
              "      fill: #1967D2;\n",
              "      height: 32px;\n",
              "      padding: 0 0 0 0;\n",
              "      width: 32px;\n",
              "    }\n",
              "\n",
              "    .colab-df-convert:hover {\n",
              "      background-color: #E2EBFA;\n",
              "      box-shadow: 0px 1px 2px rgba(60, 64, 67, 0.3), 0px 1px 3px 1px rgba(60, 64, 67, 0.15);\n",
              "      fill: #174EA6;\n",
              "    }\n",
              "\n",
              "    [theme=dark] .colab-df-convert {\n",
              "      background-color: #3B4455;\n",
              "      fill: #D2E3FC;\n",
              "    }\n",
              "\n",
              "    [theme=dark] .colab-df-convert:hover {\n",
              "      background-color: #434B5C;\n",
              "      box-shadow: 0px 1px 3px 1px rgba(0, 0, 0, 0.15);\n",
              "      filter: drop-shadow(0px 1px 2px rgba(0, 0, 0, 0.3));\n",
              "      fill: #FFFFFF;\n",
              "    }\n",
              "  </style>\n",
              "\n",
              "      <script>\n",
              "        const buttonEl =\n",
              "          document.querySelector('#df-1be58f80-f239-4ad6-86a5-5fa0679d4090 button.colab-df-convert');\n",
              "        buttonEl.style.display =\n",
              "          google.colab.kernel.accessAllowed ? 'block' : 'none';\n",
              "\n",
              "        async function convertToInteractive(key) {\n",
              "          const element = document.querySelector('#df-1be58f80-f239-4ad6-86a5-5fa0679d4090');\n",
              "          const dataTable =\n",
              "            await google.colab.kernel.invokeFunction('convertToInteractive',\n",
              "                                                     [key], {});\n",
              "          if (!dataTable) return;\n",
              "\n",
              "          const docLinkHtml = 'Like what you see? Visit the ' +\n",
              "            '<a target=\"_blank\" href=https://colab.research.google.com/notebooks/data_table.ipynb>data table notebook</a>'\n",
              "            + ' to learn more about interactive tables.';\n",
              "          element.innerHTML = '';\n",
              "          dataTable['output_type'] = 'display_data';\n",
              "          await google.colab.output.renderOutput(dataTable, element);\n",
              "          const docLink = document.createElement('div');\n",
              "          docLink.innerHTML = docLinkHtml;\n",
              "          element.appendChild(docLink);\n",
              "        }\n",
              "      </script>\n",
              "    </div>\n",
              "  </div>\n",
              "  "
            ]
          },
          "metadata": {},
          "execution_count": 27
        }
      ]
    },
    {
      "cell_type": "code",
      "source": [
        "summary[summary['데이터 종류'] == '명목형'].index"
      ],
      "metadata": {
        "colab": {
          "base_uri": "https://localhost:8080/"
        },
        "id": "O9KKlaYBlfiV",
        "outputId": "f7988ba2-10f3-4987-dd9b-d971cc88845f"
      },
      "execution_count": null,
      "outputs": [
        {
          "output_type": "execute_result",
          "data": {
            "text/plain": [
              "Index(['ps_ind_02_cat', 'ps_ind_04_cat', 'ps_ind_05_cat', 'ps_car_01_cat',\n",
              "       'ps_car_02_cat', 'ps_car_03_cat', 'ps_car_04_cat', 'ps_car_05_cat',\n",
              "       'ps_car_06_cat', 'ps_car_07_cat', 'ps_car_08_cat', 'ps_car_09_cat',\n",
              "       'ps_car_10_cat', 'ps_car_11_cat'],\n",
              "      dtype='object')"
            ]
          },
          "metadata": {},
          "execution_count": 28
        }
      ]
    },
    {
      "cell_type": "code",
      "source": [
        "summary[summary['데이터 타입'] == 'float64'].index"
      ],
      "metadata": {
        "colab": {
          "base_uri": "https://localhost:8080/"
        },
        "id": "vE-LZrm_lkKy",
        "outputId": "1d852bfc-4c58-4565-ad38-afa815d6ba83"
      },
      "execution_count": null,
      "outputs": [
        {
          "output_type": "execute_result",
          "data": {
            "text/plain": [
              "Index(['ps_reg_01', 'ps_reg_02', 'ps_reg_03', 'ps_car_12', 'ps_car_13',\n",
              "       'ps_car_14', 'ps_car_15', 'ps_calc_01', 'ps_calc_02', 'ps_calc_03'],\n",
              "      dtype='object')"
            ]
          },
          "metadata": {},
          "execution_count": 32
        }
      ]
    },
    {
      "cell_type": "markdown",
      "source": [
        "데이터 시각화"
      ],
      "metadata": {
        "id": "hYaGDKabmBcd"
      }
    },
    {
      "cell_type": "code",
      "source": [
        "import seaborn as sns\n",
        "import matplotlib as mpl\n",
        "import matplotlib.pyplot as plt\n",
        "%matplotlib inline"
      ],
      "metadata": {
        "id": "Rr8VkGIBl6bt"
      },
      "execution_count": null,
      "outputs": []
    },
    {
      "cell_type": "code",
      "source": [
        "#타깃값 분포\n",
        "def write_percent(ax, total_size):\n",
        "  for patch in ax.patches:\n",
        "    height = patch.get_height()\n",
        "    width = patch.get_width()\n",
        "    left_coord = patch.get_x()\n",
        "    percent = height/total_size*100\n",
        "\n",
        "    ax.text(left_coord + width/2.0,\n",
        "            height + total_size*0.001,\n",
        "            '{:1.1f}%'.format(percent),\n",
        "            ha='center')\n",
        "    \n",
        "mpl.rc('font', size=15)\n",
        "plt.figure(figsize=(7, 6))\n",
        "\n",
        "ax = sns.countplot(x='target', data=train)\n",
        "write_percent(ax, len(train))\n",
        "ax.set_title('Target Distribution');\n",
        "\n",
        "#타깃값이 불균형"
      ],
      "metadata": {
        "colab": {
          "base_uri": "https://localhost:8080/",
          "height": 418
        },
        "id": "Lrl4rxKwmN5C",
        "outputId": "6bd93037-f0a1-4d5b-bd8e-98c05f025992"
      },
      "execution_count": null,
      "outputs": [
        {
          "output_type": "display_data",
          "data": {
            "text/plain": [
              "<Figure size 504x432 with 1 Axes>"
            ],
            "image/png": "[encoded data removed]"
          },
          "metadata": {
            "needs_background": "light"
          }
        }
      ]
    },
    {
      "cell_type": "code",
      "source": [
        "#이진피처\n",
        "\n",
        "#고윳값별 타깃값의 비율을 구하기\n",
        "\n",
        "import matplotlib.gridspec as gridspec\n",
        "\n",
        "def plot_target_ratio_by_features(df, features, num_rows, num_cols, size=(12,18)):\n",
        "  mpl.rc('font', size=9)\n",
        "  plt.figure(figsize=size)\n",
        "  grid = gridspec.GridSpec(num_rows, num_cols)\n",
        "  plt.subplots_adjust(wspace=0.3, hspace=0.3)\n",
        "\n",
        "  for idx, feature in enumerate(features):\n",
        "    ax = plt.subplot(grid[idx])\n",
        "    sns.barplot(x=feature, y='target', data=df, palette='Set2', ax=ax)"
      ],
      "metadata": {
        "id": "VgfAXglxnYjk"
      },
      "execution_count": null,
      "outputs": []
    },
    {
      "cell_type": "code",
      "source": [
        "#이진형 피처\n",
        "\n",
        "bin_features = summary[summary['데이터 종류'] == '이진형'].index\n",
        "plot_target_ratio_by_features(train, bin_features, 6, 3)\n",
        "\n",
        "#10~13번의 경우 신뢰구간이 넓어서 통계적 유효성이 떨어져서 삭제해야 함\n",
        "#15~20의 경우 고윳값별 타깃값 비율 차이가 없어서 예측력이 없어서 삭제해야 함"
      ],
      "metadata": {
        "colab": {
          "base_uri": "https://localhost:8080/",
          "height": 1000
        },
        "id": "l1Agq1OvqzMq",
        "outputId": "b7ae251c-1748-45f4-9bb5-45c0553e975b"
      },
      "execution_count": null,
      "outputs": [
        {
          "output_type": "display_data",
          "data": {
            "text/plain": [
              "<Figure size 864x1296 with 18 Axes>"
            ],
            "image/png": "[encoded data removed]"
          },
          "metadata": {
            "needs_background": "light"
          }
        }
      ]
    },
    {
      "cell_type": "code",
      "source": [
        "#명목형 피처\n",
        "\n",
        "nom_features = summary[summary['데이터 종류']=='명목형'].index\n",
        "plot_target_ratio_by_features(train, nom_features,7,2)\n",
        "\n",
        "#-1은 결측값\n",
        "#보통은 결측값이 많지 않다면 다른 값으로 대체, 많다면 피처 자체를 제거시키지만 결측값 자체가 타깃값 예측에 도움을 주기도 함\n",
        "#ind_02의 경우 결측값을 다른 값으로 대체시에 모델 성능이 더 나빠질 수 있어서 결측값을 보존시키는 것이 유효할 것으로 판단\n",
        "#고윳값 간 타깃값 1 비율에 차이가 있으므로 모델링에 필요한 피처로 판단하여 신뢰구간이 넓더라도 제거하지 않음"
      ],
      "metadata": {
        "colab": {
          "base_uri": "https://localhost:8080/",
          "height": 1000
        },
        "id": "tJR7m0lCrWRA",
        "outputId": "ebf51a42-f948-44ba-ad00-98ae190fb327"
      },
      "execution_count": null,
      "outputs": [
        {
          "output_type": "display_data",
          "data": {
            "text/plain": [
              "<Figure size 864x1296 with 14 Axes>"
            ],
            "image/png": "[encoded data removed]"
          },
          "metadata": {
            "needs_background": "light"
          }
        }
      ]
    },
    {
      "cell_type": "code",
      "source": [
        "#순서형 피처\n",
        "\n",
        "ord_features = summary[summary['데이터 종류']=='순서형'].index\n",
        "plot_target_ratio_by_features(train, ord_features, 8, 2, (12, 20))\n",
        "\n",
        "#ind_14의 경우 고윳값 4의 신뢰구간이 상당히 넓어 통계적 유효성이 떨어지는 것으로 판단. 피처 제거 예정\n",
        "#calc_04~14는 모두 고윳값별 타깃값 비율이 비슷하나 신뢰구간이 넓어 통계적 유효성이 떨어짐. 제거 예정"
      ],
      "metadata": {
        "colab": {
          "base_uri": "https://localhost:8080/",
          "height": 1000
        },
        "id": "ACjj2j3CtCyO",
        "outputId": "58aed642-c9f9-4163-adf7-5f1b24a49ec4"
      },
      "execution_count": null,
      "outputs": [
        {
          "output_type": "display_data",
          "data": {
            "text/plain": [
              "<Figure size 864x1440 with 16 Axes>"
            ],
            "image/png": "[encoded data removed]"
          },
          "metadata": {
            "needs_background": "light"
          }
        }
      ]
    },
    {
      "cell_type": "code",
      "source": [
        "#연속형 피처\n",
        "\n",
        "pd.cut([1.0, 1.5, 2.1, 2.7, 3.5, 4.0], 3)"
      ],
      "metadata": {
        "colab": {
          "base_uri": "https://localhost:8080/"
        },
        "id": "JtxpNNRmx7CF",
        "outputId": "193c2b6b-4b3d-43df-da6c-67b1ecf33475"
      },
      "execution_count": null,
      "outputs": [
        {
          "output_type": "execute_result",
          "data": {
            "text/plain": [
              "[(0.997, 2.0], (0.997, 2.0], (2.0, 3.0], (2.0, 3.0], (3.0, 4.0], (3.0, 4.0]]\n",
              "Categories (3, interval[float64, right]): [(0.997, 2.0] < (2.0, 3.0] < (3.0, 4.0]]"
            ]
          },
          "metadata": {},
          "execution_count": 39
        }
      ]
    },
    {
      "cell_type": "code",
      "source": [
        "cont_features = summary[summary['데이터 종류']=='연속형'].index\n",
        "\n",
        "plt.figure(figsize=(12, 16))\n",
        "grid = gridspec.GridSpec(5, 2)\n",
        "plt.subplots_adjust(wspace=0.2, hspace=0.4)\n",
        "\n",
        "for idx, cont_feature in enumerate(cont_features):\n",
        "  train[cont_feature] = pd.cut(train[cont_feature], 5)\n",
        "  ax = plt.subplot(grid[idx])\n",
        "  sns.barplot(x=cont_feature, y='target', data=train, palette='Set2', ax=ax)\n",
        "  ax.tick_params(axis='x', labelrotation=10)\n",
        "\n",
        "#calc_01~03의 경우 구간별 타깃값 비율 차이가 없어서 삭제해야 한다.\n",
        "\n",
        "#지금까지의 결론 calc의 피처는 모두 제거해야 함"
      ],
      "metadata": {
        "colab": {
          "base_uri": "https://localhost:8080/",
          "height": 943
        },
        "id": "OK-tzR_9yMzr",
        "outputId": "e4842c9b-1c97-478e-bab2-9bd98ecbb85d"
      },
      "execution_count": null,
      "outputs": [
        {
          "output_type": "display_data",
          "data": {
            "text/plain": [
              "<Figure size 864x1152 with 10 Axes>"
            ],
            "image/png": "[encoded data removed]"
          },
          "metadata": {
            "needs_background": "light"
          }
        }
      ]
    },
    {
      "cell_type": "code",
      "source": [
        "#연속형 피처 간 상관관계 파악\n",
        "#상관관계가 강한 피처들은 예측력이 비슷하기에 하나만 남겨두면 된다.\n",
        "\n",
        "#결측값 먼저 제거하고 히트맵으로 나타내기\n",
        "train_copy = train_copy.dropna()"
      ],
      "metadata": {
        "id": "wSARPm-rz3on"
      },
      "execution_count": null,
      "outputs": []
    },
    {
      "cell_type": "code",
      "source": [
        "plt.figure(figsize=(10, 8))\n",
        "cont_corr = train_copy[cont_features].corr()\n",
        "sns.heatmap(cont_corr, annot=True, cmap='OrRd');\n",
        "\n",
        "#car_12와 14가 가장 강한 상관관계를 보이나 테스트 결과 14 피처를 없애는 것이 성능을 더 좋게 만들었다.\n",
        "#즉 그 다음으로 높은 0.76의 점수 reg_02와 03의 경우가 상관관계에 유효"
      ],
      "metadata": {
        "colab": {
          "base_uri": "https://localhost:8080/",
          "height": 525
        },
        "id": "IPrnK-5U6wSS",
        "outputId": "4403c2f6-0e8e-4a74-9c5a-da2ad7f7198f"
      },
      "execution_count": null,
      "outputs": [
        {
          "output_type": "display_data",
          "data": {
            "text/plain": [
              "<Figure size 720x576 with 2 Axes>"
            ],
            "image/png": "[encoded data removed]"
          },
          "metadata": {
            "needs_background": "light"
          }
        }
      ]
    },
    {
      "cell_type": "markdown",
      "source": [
        "베이스라인 모델(LightGBM)"
      ],
      "metadata": {
        "id": "lro-RLfC9Rvb"
      }
    },
    {
      "cell_type": "code",
      "source": [
        "train = pd.read_csv('/content/train.csv', index_col='id')\n",
        "test = pd.read_csv('/content/test.csv', index_col='id')\n",
        "submission = pd.read_csv('/content/sample_submission.csv', index_col='id')"
      ],
      "metadata": {
        "id": "-jQutCnn9RWk"
      },
      "execution_count": null,
      "outputs": []
    },
    {
      "cell_type": "code",
      "source": [
        "#피처 엔지니어링\n",
        "\n",
        "#데이터 합치기\n",
        "all_data = pd.concat([train, test], ignore_index=True)\n",
        "all_data = all_data.drop('target', axis=1)"
      ],
      "metadata": {
        "id": "BhxjtAjQ8tTd"
      },
      "execution_count": null,
      "outputs": []
    },
    {
      "cell_type": "code",
      "source": [
        "all_features = all_data.columns\n",
        "all_features"
      ],
      "metadata": {
        "colab": {
          "base_uri": "https://localhost:8080/"
        },
        "id": "WEzvnCW07E-r",
        "outputId": "f0a2c4a7-8db4-4919-f6d0-f20cb54f4570"
      },
      "execution_count": null,
      "outputs": [
        {
          "output_type": "execute_result",
          "data": {
            "text/plain": [
              "Index(['ps_ind_01', 'ps_ind_02_cat', 'ps_ind_03', 'ps_ind_04_cat',\n",
              "       'ps_ind_05_cat', 'ps_ind_06_bin', 'ps_ind_07_bin', 'ps_ind_08_bin',\n",
              "       'ps_ind_09_bin', 'ps_ind_10_bin', 'ps_ind_11_bin', 'ps_ind_12_bin',\n",
              "       'ps_ind_13_bin', 'ps_ind_14', 'ps_ind_15', 'ps_ind_16_bin',\n",
              "       'ps_ind_17_bin', 'ps_ind_18_bin', 'ps_reg_01', 'ps_reg_02', 'ps_reg_03',\n",
              "       'ps_car_01_cat', 'ps_car_02_cat', 'ps_car_03_cat', 'ps_car_04_cat',\n",
              "       'ps_car_05_cat', 'ps_car_06_cat', 'ps_car_07_cat', 'ps_car_08_cat',\n",
              "       'ps_car_09_cat', 'ps_car_10_cat', 'ps_car_11_cat', 'ps_car_11',\n",
              "       'ps_car_12', 'ps_car_13', 'ps_car_14', 'ps_car_15', 'ps_calc_01',\n",
              "       'ps_calc_02', 'ps_calc_03', 'ps_calc_04', 'ps_calc_05', 'ps_calc_06',\n",
              "       'ps_calc_07', 'ps_calc_08', 'ps_calc_09', 'ps_calc_10', 'ps_calc_11',\n",
              "       'ps_calc_12', 'ps_calc_13', 'ps_calc_14', 'ps_calc_15_bin',\n",
              "       'ps_calc_16_bin', 'ps_calc_17_bin', 'ps_calc_18_bin', 'ps_calc_19_bin',\n",
              "       'ps_calc_20_bin'],\n",
              "      dtype='object')"
            ]
          },
          "metadata": {},
          "execution_count": 47
        }
      ]
    },
    {
      "cell_type": "code",
      "source": [
        "#명목형 피처 원 핫 인코딩\n",
        "from sklearn.preprocessing import OneHotEncoder\n",
        "\n",
        "cat_features = [feature for feature in all_features if 'cat' in feature]\n",
        "onehot_encoder = OneHotEncoder()\n",
        "encoded_cat_matrix = onehot_encoder.fit_transform(all_data[cat_features])\n",
        "\n",
        "encoded_cat_matrix\n",
        "\n",
        "#결과에 열이 184개가 생긴 것을 확인"
      ],
      "metadata": {
        "colab": {
          "base_uri": "https://localhost:8080/"
        },
        "id": "tTphzwb1-Sie",
        "outputId": "0fb00c41-71ab-44f9-9355-7dfc2ab73aaf"
      },
      "execution_count": null,
      "outputs": [
        {
          "output_type": "execute_result",
          "data": {
            "text/plain": [
              "<1488028x184 sparse matrix of type '<class 'numpy.float64'>'\n",
              "\twith 20832392 stored elements in Compressed Sparse Row format>"
            ]
          },
          "metadata": {},
          "execution_count": 48
        }
      ]
    },
    {
      "cell_type": "code",
      "source": [
        "#필요 없는 피처 제거\n",
        "drop_features = ['ps_ind_14', 'ps_ind_10_bin', 'ps_ind_11_bin', 'ps_ind_12_bin', 'ps_ind_13_bin', 'ps_car_14']\n",
        "remaining_features = [feature for feature in all_features\n",
        "                      if ('cat' not in feature and\n",
        "                          'calc' not in feature and\n",
        "                          feature not in drop_features)]"
      ],
      "metadata": {
        "id": "IltX1qH2_BRT"
      },
      "execution_count": null,
      "outputs": []
    },
    {
      "cell_type": "code",
      "source": [
        "#remaining_features를 encoded_cat_matrix와 결합\n",
        "from scipy import sparse\n",
        "\n",
        "all_data_sprs = sparse.hstack([sparse.csr_matrix(all_data[remaining_features]), encoded_cat_matrix], format='csr')"
      ],
      "metadata": {
        "id": "Gh4byUG4MP9v"
      },
      "execution_count": null,
      "outputs": []
    },
    {
      "cell_type": "code",
      "source": [
        "#데이터 나누기\n",
        "num_train = len(train)\n",
        "\n",
        "X = all_data_sprs[:num_train]\n",
        "X_test = all_data_sprs[num_train:]\n",
        "y = train['target'].values"
      ],
      "metadata": {
        "id": "wmefXxKSZIxe"
      },
      "execution_count": null,
      "outputs": []
    },
    {
      "cell_type": "code",
      "source": [
        "#평가지표 계산 함수\n",
        "#지니계수 반환.\n",
        "import numpy as np\n",
        "\n",
        "def eval_gini(y_true, y_pred):\n",
        "  assert y_true.shape == y_pred.shape\n",
        "  n_samples = y_true.shape[0]\n",
        "  L_mid = np.linspace(1/n_samples, 1, n_samples)\n",
        "\n",
        "  #예측값에 대한 지니계수\n",
        "  pred_order = y_true[y_pred.argsort()]\n",
        "  L_pred = np.cumsum(pred_order) / np.sum(pred_order)\n",
        "  G_pred = np.sum(L_mid - L_pred)\n",
        "\n",
        "  #예측이 완벽할 때 지니계수\n",
        "  true_order = y_true[y_true.argsort()]\n",
        "  L_true = np.cumsum(true_order) / np.sum(true_order)\n",
        "  G_true = np.sum(L_mid - L_true)\n",
        "\n",
        "  #정규화된 지니계수\n",
        "  return G_pred / G_true"
      ],
      "metadata": {
        "id": "1Tx-y0ZSZqOI"
      },
      "execution_count": null,
      "outputs": []
    },
    {
      "cell_type": "code",
      "source": [
        "def gini(preds, dtrain):\n",
        "  labels = dtrain.get_label()\n",
        "  return 'gini', eval_gini(labels, preds), True"
      ],
      "metadata": {
        "id": "-zXyoE65bd06"
      },
      "execution_count": null,
      "outputs": []
    },
    {
      "cell_type": "code",
      "source": [
        "#모델 훈련 및 성능 검증\n",
        "#OOF 예측 방식(훈련 데이터로 모델을 훈련, 검증 데이터로 모델 성능을 측정, 테스트 데이터로 최종 타깃 확률을 예측, 각 폴드별 모델로 여러번 예측하여 평균을 내는 방식)\n",
        "#장점1 : 과대적합 방지 효과(훈련 시 접하지 못한 데이터로 성능을 평가하기 때문에 새로운 데이터에 일반화 성능이 어느 정도일지 가능하기 쉽다)\n",
        "#장점2 : 앙상블 효과로 모델 성능이 좋아진다. K개 모델로 K번 예측해서 평균을 내는데 K번 예측해 평균한 확률이 한 번만 예측한 확률보다 일반적으로 더 정확하다 할 수 있다.\n",
        "\n",
        "from sklearn.model_selection import StratifiedKFold\n",
        "folds = StratifiedKFold(n_splits=5, shuffle=True, random_state=1991)"
      ],
      "metadata": {
        "id": "-abdcR6JbvFZ"
      },
      "execution_count": null,
      "outputs": []
    },
    {
      "cell_type": "code",
      "source": [
        "params = {'objective':'binary',\n",
        "          'learning_rate':0.01,\n",
        "          'force_row_wise':True,\n",
        "          'random_state':0}"
      ],
      "metadata": {
        "id": "I1TWB28Vem_X"
      },
      "execution_count": null,
      "outputs": []
    },
    {
      "cell_type": "code",
      "source": [
        "oof_val_preds = np.zeros(X.shape[0])\n",
        "oof_test_preds = np.zeros(X_test.shape[0])"
      ],
      "metadata": {
        "id": "m1jZKuqCezTb"
      },
      "execution_count": null,
      "outputs": []
    },
    {
      "cell_type": "code",
      "source": [
        "#LightGBM 모델 훈련하면서 OOF 예측도 수행\n",
        "import lightgbm as lgb\n",
        "#oof방식\n",
        "for idx, (train_idx, valid_idx) in enumerate(folds.split(X, y)):\n",
        "  #각 폴드를 구분하는 문구\n",
        "  print('#'*40, f'폴드 {idx+1} / 폴드 {folds.n_splits}', '#'*40)\n",
        "\n",
        "  #훈련용 데이터, 검증용 데이터 설정\n",
        "  X_train, y_train = X[train_idx], y[train_idx]\n",
        "  X_valid, y_valid = X[valid_idx], y[valid_idx]\n",
        "\n",
        "  #lightGBM 전용 데이터셋 생성\n",
        "  dtrain = lgb.Dataset(X_train, y_train)\n",
        "  dvalid = lgb.Dataset(X_valid, y_valid)\n",
        "\n",
        "  #lightGBM 모델 훈련\n",
        "  lgb_model = lgb.train(params=params,\n",
        "                        train_set=dtrain,\n",
        "                        num_boost_round=1000,\n",
        "                        valid_sets=dvalid,\n",
        "                        feval=gini,\n",
        "                        early_stopping_rounds=100,\n",
        "                        verbose_eval=100)\n",
        "  \n",
        "  #테스트 데이터를 활용한 oof 예측\n",
        "  oof_test_preds += lgb_model.predict(X_test)/folds.n_splits\n",
        "  oof_val_preds[valid_idx] += lgb_model.predict(X_valid)\n",
        "\n",
        "  #검증 데이터 예측 확률에 대한 정규화 지니계수\n",
        "  gini_score = eval_gini(y_valid, oof_val_preds[valid_idx])\n",
        "  print(f'폴드: {idx+1} 지니계수: {gini_score}\\n')"
      ],
      "metadata": {
        "colab": {
          "base_uri": "https://localhost:8080/"
        },
        "id": "7Clmpan5fFXj",
        "outputId": "0994d947-0222-42c7-ef95-45c500ff0838"
      },
      "execution_count": null,
      "outputs": [
        {
          "output_type": "stream",
          "name": "stdout",
          "text": [
            "######################################## 폴드 1 / 폴드 5 ########################################\n",
            "Training until validation scores don't improve for 100 rounds.\n",
            "[100]\tvalid_0's binary_logloss: 0.15336\tvalid_0's gini: 0.261801\n",
            "[200]\tvalid_0's binary_logloss: 0.152428\tvalid_0's gini: 0.275964\n",
            "[300]\tvalid_0's binary_logloss: 0.152018\tvalid_0's gini: 0.282624\n",
            "[400]\tvalid_0's binary_logloss: 0.151798\tvalid_0's gini: 0.286985\n",
            "[500]\tvalid_0's binary_logloss: 0.151716\tvalid_0's gini: 0.288374\n",
            "[600]\tvalid_0's binary_logloss: 0.151677\tvalid_0's gini: 0.288793\n",
            "[700]\tvalid_0's binary_logloss: 0.151671\tvalid_0's gini: 0.288778\n",
            "Early stopping, best iteration is:\n",
            "[646]\tvalid_0's binary_logloss: 0.151673\tvalid_0's gini: 0.288887\n",
            "폴드: 1 지니계수: 0.2888871820172969\n",
            "\n",
            "######################################## 폴드 2 / 폴드 5 ########################################\n",
            "Training until validation scores don't improve for 100 rounds.\n",
            "[100]\tvalid_0's binary_logloss: 0.153506\tvalid_0's gini: 0.249477\n",
            "[200]\tvalid_0's binary_logloss: 0.152709\tvalid_0's gini: 0.260875\n",
            "[300]\tvalid_0's binary_logloss: 0.152395\tvalid_0's gini: 0.267264\n",
            "[400]\tvalid_0's binary_logloss: 0.152231\tvalid_0's gini: 0.271464\n",
            "[500]\tvalid_0's binary_logloss: 0.152158\tvalid_0's gini: 0.273253\n",
            "[600]\tvalid_0's binary_logloss: 0.152128\tvalid_0's gini: 0.274075\n",
            "[700]\tvalid_0's binary_logloss: 0.152119\tvalid_0's gini: 0.274381\n",
            "Early stopping, best iteration is:\n",
            "[678]\tvalid_0's binary_logloss: 0.152116\tvalid_0's gini: 0.274516\n",
            "폴드: 2 지니계수: 0.27451635104937466\n",
            "\n",
            "######################################## 폴드 3 / 폴드 5 ########################################\n",
            "Training until validation scores don't improve for 100 rounds.\n",
            "[100]\tvalid_0's binary_logloss: 0.15326\tvalid_0's gini: 0.261338\n",
            "[200]\tvalid_0's binary_logloss: 0.152329\tvalid_0's gini: 0.271699\n",
            "[300]\tvalid_0's binary_logloss: 0.151974\tvalid_0's gini: 0.276442\n",
            "[400]\tvalid_0's binary_logloss: 0.151813\tvalid_0's gini: 0.278722\n",
            "[500]\tvalid_0's binary_logloss: 0.151758\tvalid_0's gini: 0.279825\n",
            "[600]\tvalid_0's binary_logloss: 0.151753\tvalid_0's gini: 0.279965\n",
            "Early stopping, best iteration is:\n",
            "[548]\tvalid_0's binary_logloss: 0.151747\tvalid_0's gini: 0.280228\n",
            "폴드: 3 지니계수: 0.2802284578966572\n",
            "\n",
            "######################################## 폴드 4 / 폴드 5 ########################################\n",
            "Training until validation scores don't improve for 100 rounds.\n",
            "[100]\tvalid_0's binary_logloss: 0.153399\tvalid_0's gini: 0.250822\n",
            "[200]\tvalid_0's binary_logloss: 0.152546\tvalid_0's gini: 0.263109\n",
            "[300]\tvalid_0's binary_logloss: 0.152255\tvalid_0's gini: 0.266983\n",
            "[400]\tvalid_0's binary_logloss: 0.152111\tvalid_0's gini: 0.270068\n",
            "[500]\tvalid_0's binary_logloss: 0.152075\tvalid_0's gini: 0.270896\n",
            "[600]\tvalid_0's binary_logloss: 0.152074\tvalid_0's gini: 0.270987\n",
            "Early stopping, best iteration is:\n",
            "[579]\tvalid_0's binary_logloss: 0.152067\tvalid_0's gini: 0.271195\n",
            "폴드: 4 지니계수: 0.2711951251992087\n",
            "\n",
            "######################################## 폴드 5 / 폴드 5 ########################################\n",
            "Training until validation scores don't improve for 100 rounds.\n",
            "[100]\tvalid_0's binary_logloss: 0.153481\tvalid_0's gini: 0.26208\n",
            "[200]\tvalid_0's binary_logloss: 0.152621\tvalid_0's gini: 0.273864\n",
            "[300]\tvalid_0's binary_logloss: 0.152266\tvalid_0's gini: 0.279955\n",
            "[400]\tvalid_0's binary_logloss: 0.152049\tvalid_0's gini: 0.285368\n",
            "[500]\tvalid_0's binary_logloss: 0.151974\tvalid_0's gini: 0.287701\n",
            "[600]\tvalid_0's binary_logloss: 0.15195\tvalid_0's gini: 0.288286\n",
            "Early stopping, best iteration is:\n",
            "[594]\tvalid_0's binary_logloss: 0.15195\tvalid_0's gini: 0.288331\n",
            "폴드: 5 지니계수: 0.28833118931840523\n",
            "\n"
          ]
        }
      ]
    },
    {
      "cell_type": "code",
      "source": [
        "print('OOF 검증 데이터 지니계수 :', eval_gini(y, oof_val_preds))"
      ],
      "metadata": {
        "colab": {
          "base_uri": "https://localhost:8080/"
        },
        "id": "1b58MqXGhMyP",
        "outputId": "88f236c6-9978-4c78-d766-47d862e2b254"
      },
      "execution_count": null,
      "outputs": [
        {
          "output_type": "stream",
          "name": "stdout",
          "text": [
            "OOF 검증 데이터 지니계수 : 0.2804880266267947\n"
          ]
        }
      ]
    },
    {
      "cell_type": "code",
      "source": [
        "submission['target'] = oof_test_preds\n",
        "submission.to_csv('submission.csv')"
      ],
      "metadata": {
        "id": "C1sZ7zmomOl-"
      },
      "execution_count": null,
      "outputs": []
    },
    {
      "cell_type": "markdown",
      "source": [
        "## 성능 개선 : LightGBM 모델"
      ],
      "metadata": {
        "id": "URiYWkugnPJf"
      }
    },
    {
      "cell_type": "code",
      "source": [
        "train = pd.read_csv('/content/train.csv', index_col='id')\n",
        "test = pd.read_csv('/content/test.csv', index_col='id')\n",
        "submission = pd.read_csv('/content/sample_submission.csv', index_col='id')"
      ],
      "metadata": {
        "id": "Rol6SBcvnSfO"
      },
      "execution_count": null,
      "outputs": []
    },
    {
      "cell_type": "code",
      "source": [
        "all_data = pd.concat([train, test], ignore_index=True)\n",
        "all_data = all_data.drop('target', axis=1)\n",
        "\n",
        "all_features = all_data.columns"
      ],
      "metadata": {
        "id": "yMuV4KpYnw08"
      },
      "execution_count": null,
      "outputs": []
    },
    {
      "cell_type": "code",
      "source": [
        "#명목형 피처 원핫인코딩\n",
        "cat_features = [feature for feature in all_features if 'cat' in feature]\n",
        "\n",
        "onehot_encoder = OneHotEncoder()\n",
        "encoded_cat_matrix = onehot_encoder.fit_transform(all_data[cat_features])"
      ],
      "metadata": {
        "id": "8lui7eMHoghH"
      },
      "execution_count": null,
      "outputs": []
    },
    {
      "cell_type": "code",
      "source": [
        "#데이터 하나당 결측값 개수를 파생 피처로 추가\n",
        "all_data['num_missing'] = (all_data==-1).sum(axis=1)"
      ],
      "metadata": {
        "id": "4rjrG4ZepA4b"
      },
      "execution_count": null,
      "outputs": []
    },
    {
      "cell_type": "code",
      "source": [
        "remaining_features = [feature for feature in all_features\n",
        "                      if ('cat' not in feature and 'calc' not in feature)]\n",
        "remaining_features.append('num_missing')"
      ],
      "metadata": {
        "id": "XSU1GhvIqEUr"
      },
      "execution_count": null,
      "outputs": []
    },
    {
      "cell_type": "code",
      "source": [
        "ind_features = [feature for feature in all_features if 'ind' in feature]\n",
        "\n",
        "is_first_feature = True\n",
        "for ind_feature in ind_features:\n",
        "  if is_first_feature:\n",
        "    all_data['mix_ind'] = all_data[ind_feature].astype(str)+'_'\n",
        "    is_first_feature = False\n",
        "  else:\n",
        "    all_data['mix_ind'] += all_data[ind_feature].astype(str)+'_'"
      ],
      "metadata": {
        "id": "w1ORHFsvqTCe"
      },
      "execution_count": null,
      "outputs": []
    },
    {
      "cell_type": "code",
      "source": [
        "all_data['mix_ind']"
      ],
      "metadata": {
        "colab": {
          "base_uri": "https://localhost:8080/"
        },
        "id": "mno_PMB3rOsZ",
        "outputId": "caf1fbcf-1aa2-4196-81f3-8a8cab67e5e9"
      },
      "execution_count": null,
      "outputs": [
        {
          "output_type": "execute_result",
          "data": {
            "text/plain": [
              "0          2_2_5_1_0_0_1_0_0_0_0_0_0_0_11_0_1_0_\n",
              "1           1_1_7_0_0_0_0_1_0_0_0_0_0_0_3_0_0_1_\n",
              "2          5_4_9_1_0_0_0_1_0_0_0_0_0_0_12_1_0_0_\n",
              "3           0_1_2_0_0_1_0_0_0_0_0_0_0_0_8_1_0_0_\n",
              "4           0_2_0_1_0_1_0_0_0_0_0_0_0_0_9_1_0_0_\n",
              "                           ...                  \n",
              "1488023     0_1_6_0_0_0_1_0_0_0_0_0_0_0_2_0_0_1_\n",
              "1488024    5_3_5_1_0_0_0_1_0_0_0_0_0_0_11_1_0_0_\n",
              "1488025     0_1_5_0_0_1_0_0_0_0_0_0_0_0_5_0_0_1_\n",
              "1488026    6_1_5_1_0_0_0_0_1_0_0_0_0_0_13_1_0_0_\n",
              "1488027    7_1_4_1_0_0_0_0_1_0_0_0_0_0_12_1_0_0_\n",
              "Name: mix_ind, Length: 1488028, dtype: object"
            ]
          },
          "metadata": {},
          "execution_count": 70
        }
      ]
    },
    {
      "cell_type": "code",
      "source": [
        "all_data['ps_ind_02_cat'].value_counts()"
      ],
      "metadata": {
        "colab": {
          "base_uri": "https://localhost:8080/"
        },
        "id": "nSh2-Y9wrWne",
        "outputId": "725aa93d-c445-4e28-c49b-0385cde561f4"
      },
      "execution_count": null,
      "outputs": [
        {
          "output_type": "execute_result",
          "data": {
            "text/plain": [
              " 1    1079327\n",
              " 2     309747\n",
              " 3      70172\n",
              " 4      28259\n",
              "-1        523\n",
              "Name: ps_ind_02_cat, dtype: int64"
            ]
          },
          "metadata": {},
          "execution_count": 71
        }
      ]
    },
    {
      "cell_type": "code",
      "source": [
        "all_data['ps_ind_02_cat'].value_counts().to_dict()"
      ],
      "metadata": {
        "colab": {
          "base_uri": "https://localhost:8080/"
        },
        "id": "T_67Yo8TrfRQ",
        "outputId": "daa23277-5499-4b14-9d45-a6ccd2a3cb72"
      },
      "execution_count": null,
      "outputs": [
        {
          "output_type": "execute_result",
          "data": {
            "text/plain": [
              "{-1: 523, 1: 1079327, 2: 309747, 3: 70172, 4: 28259}"
            ]
          },
          "metadata": {},
          "execution_count": 72
        }
      ]
    },
    {
      "cell_type": "code",
      "source": [
        "cat_count_features = []\n",
        "for feature in cat_features+['mix_ind']:\n",
        "  val_counts_dict = all_data[feature].value_counts().to_dict()\n",
        "  all_data[f'{feature}_count']=all_data[feature].apply(lambda x:val_counts_dict[x])\n",
        "  cat_count_features.append(f'{feature}_count')"
      ],
      "metadata": {
        "id": "R5_908m6rst9"
      },
      "execution_count": null,
      "outputs": []
    },
    {
      "cell_type": "code",
      "source": [
        "cat_count_features"
      ],
      "metadata": {
        "colab": {
          "base_uri": "https://localhost:8080/"
        },
        "id": "4SmnU4nVsLHw",
        "outputId": "3576f127-bb01-4a99-c6df-3ed2863001c2"
      },
      "execution_count": null,
      "outputs": [
        {
          "output_type": "execute_result",
          "data": {
            "text/plain": [
              "['ps_ind_02_cat_count',\n",
              " 'ps_ind_04_cat_count',\n",
              " 'ps_ind_05_cat_count',\n",
              " 'ps_car_01_cat_count',\n",
              " 'ps_car_02_cat_count',\n",
              " 'ps_car_03_cat_count',\n",
              " 'ps_car_04_cat_count',\n",
              " 'ps_car_05_cat_count',\n",
              " 'ps_car_06_cat_count',\n",
              " 'ps_car_07_cat_count',\n",
              " 'ps_car_08_cat_count',\n",
              " 'ps_car_09_cat_count',\n",
              " 'ps_car_10_cat_count',\n",
              " 'ps_car_11_cat_count',\n",
              " 'mix_ind_count']"
            ]
          },
          "metadata": {},
          "execution_count": 74
        }
      ]
    },
    {
      "cell_type": "code",
      "source": [
        "drop_features = ['ps_ind_14', 'ps_ind_10_bin', 'ps_ind_11_bin', 'ps_ind_12_bin', 'ps_ind_13_bin', 'ps_car_14']\n",
        "\n",
        "all_data_remaining = all_data[remaining_features+cat_count_features].drop(drop_features, axis=1)\n",
        "\n",
        "all_data_sprs = sparse.hstack([sparse.csr_matrix(all_data_remaining),\n",
        "                               encoded_cat_matrix],\n",
        "                              format='csr')"
      ],
      "metadata": {
        "id": "C39-OwR5sNdo"
      },
      "execution_count": null,
      "outputs": []
    },
    {
      "cell_type": "code",
      "source": [
        "num_train = len(train)\n",
        "X = all_data_sprs[:num_train]\n",
        "X_test = all_data_sprs[num_train:]\n",
        "y = train['target'].values"
      ],
      "metadata": {
        "id": "CYiCwxe1s6qM"
      },
      "execution_count": null,
      "outputs": []
    },
    {
      "cell_type": "code",
      "source": [
        "#하이퍼 파라미터 최적화\n",
        "from sklearn.model_selection import train_test_split\n",
        "X_train, X_valid, y_train, y_valid = train_test_split(X, y,\n",
        "                                                      test_size=0.2,\n",
        "                                                      random_state=0)\n",
        "bayes_dtrain = lgb.Dataset(X_train, y_train)\n",
        "bayes_dvalid = lgb.Dataset(X_valid, y_valid)"
      ],
      "metadata": {
        "id": "toIddGL9tHjB"
      },
      "execution_count": null,
      "outputs": []
    },
    {
      "cell_type": "code",
      "source": [
        "param_bounds = {'num_leaves':(30,40),\n",
        "                'lambda_l1':(0.7,0.9),\n",
        "                'lambda_l2':(0.9,1),\n",
        "                'feature_fraction':(0.6,0.7),\n",
        "                'bagging_fraction':(0.6,0.9),\n",
        "                'min_child_samples':(6,10),\n",
        "                'min_child_weight':(10,40)}\n",
        "\n",
        "fixed_params = {'objective':'binary',\n",
        "                'learning_rate':0.005,\n",
        "                'bagging_freq':1,\n",
        "                'force_row_wise':True,\n",
        "                'random_state':1991}                "
      ],
      "metadata": {
        "id": "o2ZkWSSktwGl"
      },
      "execution_count": null,
      "outputs": []
    },
    {
      "cell_type": "code",
      "source": [
        "def eval_function(num_leaves, lambda_l1, lambda_l2, feature_fraction, bagging_fraction, min_child_samples, min_child_weight):\n",
        "  params = {'num_leaves':int(round(num_leaves)),\n",
        "            'lambda_l1':lambda_l1,\n",
        "            'lambda_l2':lambda_l2,\n",
        "            'feature_fraction':feature_fraction,\n",
        "            'bagging_fraction':bagging_fraction,\n",
        "            'min_child_samples':int(round(min_child_samples)),\n",
        "            'min_child_weight':min_child_weight,\n",
        "            'feature_pre_filter':False}\n",
        "  params.update(fixed_params)\n",
        "\n",
        "  print('하이퍼파라미터:', params)\n",
        "\n",
        "  lgb_model = lgb.train(params=params,\n",
        "                        train_set=bayes_dtrain,\n",
        "                        num_boost_round=2500,\n",
        "                        valid_sets=bayes_dvalid,\n",
        "                        feval=gini,\n",
        "                        early_stopping_rounds=300,\n",
        "                        verbose_eval=False)\n",
        "  preds = lgb_model.predict(X_valid)\n",
        "  gini_score = eval_gini(y_valid, preds)\n",
        "  print(f'지니계수 : {gini_score}\\n')\n",
        "\n",
        "  return gini_score"
      ],
      "metadata": {
        "id": "DI1CpAcHudrD"
      },
      "execution_count": null,
      "outputs": []
    },
    {
      "cell_type": "code",
      "source": [
        "!pip install bayesian-optimization\n",
        "from bayes_opt import BayesianOptimization\n",
        "optimizer = BayesianOptimization(f=eval_function, pbounds=param_bounds, random_state=0)"
      ],
      "metadata": {
        "colab": {
          "base_uri": "https://localhost:8080/"
        },
        "id": "1WI1d_xiv5Kw",
        "outputId": "ad04fdfd-9997-4d3f-c935-dab74ca1fb4e"
      },
      "execution_count": null,
      "outputs": [
        {
          "output_type": "stream",
          "name": "stdout",
          "text": [
            "Looking in indexes: https://pypi.org/simple, https://us-python.pkg.dev/colab-wheels/public/simple/\n",
            "Collecting bayesian-optimization\n",
            "  Downloading bayesian-optimization-1.2.0.tar.gz (14 kB)\n",
            "Requirement already satisfied: numpy>=1.9.0 in /usr/local/lib/python3.7/dist-packages (from bayesian-optimization) (1.21.6)\n",
            "Requirement already satisfied: scipy>=0.14.0 in /usr/local/lib/python3.7/dist-packages (from bayesian-optimization) (1.4.1)\n",
            "Requirement already satisfied: scikit-learn>=0.18.0 in /usr/local/lib/python3.7/dist-packages (from bayesian-optimization) (1.0.2)\n",
            "Requirement already satisfied: joblib>=0.11 in /usr/local/lib/python3.7/dist-packages (from scikit-learn>=0.18.0->bayesian-optimization) (1.1.0)\n",
            "Requirement already satisfied: threadpoolctl>=2.0.0 in /usr/local/lib/python3.7/dist-packages (from scikit-learn>=0.18.0->bayesian-optimization) (3.1.0)\n",
            "Building wheels for collected packages: bayesian-optimization\n",
            "  Building wheel for bayesian-optimization (setup.py) ... \u001b[?25l\u001b[?25hdone\n",
            "  Created wheel for bayesian-optimization: filename=bayesian_optimization-1.2.0-py3-none-any.whl size=11685 sha256=9d28296cf32fca8a2db41922ac5f8c196a0b220b294a4e2eb730024b8ac60a32\n",
            "  Stored in directory: /root/.cache/pip/wheels/fd/9b/71/f127d694e02eb40bcf18c7ae9613b88a6be4470f57a8528c5b\n",
            "Successfully built bayesian-optimization\n",
            "Installing collected packages: bayesian-optimization\n",
            "Successfully installed bayesian-optimization-1.2.0\n"
          ]
        }
      ]
    },
    {
      "cell_type": "code",
      "source": [
        "optimizer.maximize(init_points=3, n_iter=6)"
      ],
      "metadata": {
        "colab": {
          "base_uri": "https://localhost:8080/"
        },
        "id": "YzzTJO8wwh9Y",
        "outputId": "da4de4d3-0566-43cf-887e-71c13a82ba9c"
      },
      "execution_count": null,
      "outputs": [
        {
          "output_type": "stream",
          "name": "stdout",
          "text": [
            "|   iter    |  target   | baggin... | featur... | lambda_l1 | lambda_l2 | min_ch... | min_ch... | num_le... |\n",
            "-------------------------------------------------------------------------------------------------------------\n",
            "하이퍼파라미터: {'num_leaves': 34, 'lambda_l1': 0.8205526752143287, 'lambda_l2': 0.9544883182996897, 'feature_fraction': 0.6715189366372419, 'bagging_fraction': 0.7646440511781974, 'min_child_samples': 8, 'min_child_weight': 29.376823391999682, 'feature_pre_filter': False, 'objective': 'binary', 'learning_rate': 0.005, 'bagging_freq': 1, 'force_row_wise': True, 'random_state': 1991}\n",
            "지니계수 : 0.2846778857441302\n",
            "\n",
            "| \u001b[0m 1       \u001b[0m | \u001b[0m 0.2847  \u001b[0m | \u001b[0m 0.7646  \u001b[0m | \u001b[0m 0.6715  \u001b[0m | \u001b[0m 0.8206  \u001b[0m | \u001b[0m 0.9545  \u001b[0m | \u001b[0m 7.695   \u001b[0m | \u001b[0m 29.38   \u001b[0m | \u001b[0m 34.38   \u001b[0m |\n",
            "하이퍼파라미터: {'num_leaves': 39, 'lambda_l1': 0.7766883037651555, 'lambda_l2': 0.9791725038082665, 'feature_fraction': 0.6963662760501029, 'bagging_fraction': 0.867531900234624, 'min_child_samples': 8, 'min_child_weight': 27.04133683281797, 'feature_pre_filter': False, 'objective': 'binary', 'learning_rate': 0.005, 'bagging_freq': 1, 'force_row_wise': True, 'random_state': 1991}\n",
            "지니계수 : 0.2837707744530632\n",
            "\n",
            "| \u001b[0m 2       \u001b[0m | \u001b[0m 0.2838  \u001b[0m | \u001b[0m 0.8675  \u001b[0m | \u001b[0m 0.6964  \u001b[0m | \u001b[0m 0.7767  \u001b[0m | \u001b[0m 0.9792  \u001b[0m | \u001b[0m 8.116   \u001b[0m | \u001b[0m 27.04   \u001b[0m | \u001b[0m 39.26   \u001b[0m |\n",
            "하이퍼파라미터: {'num_leaves': 40, 'lambda_l1': 0.7040436794880651, 'lambda_l2': 0.9832619845547939, 'feature_fraction': 0.608712929970154, 'bagging_fraction': 0.6213108174593661, 'min_child_samples': 9, 'min_child_weight': 36.10036444740457, 'feature_pre_filter': False, 'objective': 'binary', 'learning_rate': 0.005, 'bagging_freq': 1, 'force_row_wise': True, 'random_state': 1991}\n",
            "지니계수 : 0.2856516718359553\n",
            "\n",
            "| \u001b[95m 3       \u001b[0m | \u001b[95m 0.2857  \u001b[0m | \u001b[95m 0.6213  \u001b[0m | \u001b[95m 0.6087  \u001b[0m | \u001b[95m 0.704   \u001b[0m | \u001b[95m 0.9833  \u001b[0m | \u001b[95m 9.113   \u001b[0m | \u001b[95m 36.1    \u001b[0m | \u001b[95m 39.79   \u001b[0m |\n",
            "하이퍼파라미터: {'num_leaves': 39, 'lambda_l1': 0.894923427182547, 'lambda_l2': 0.9583601786148422, 'feature_fraction': 0.660961016236578, 'bagging_fraction': 0.7187091963023217, 'min_child_samples': 8, 'min_child_weight': 37.23501356017725, 'feature_pre_filter': False, 'objective': 'binary', 'learning_rate': 0.005, 'bagging_freq': 1, 'force_row_wise': True, 'random_state': 1991}\n",
            "지니계수 : 0.2857258515448462\n",
            "\n",
            "| \u001b[95m 4       \u001b[0m | \u001b[95m 0.2857  \u001b[0m | \u001b[95m 0.7187  \u001b[0m | \u001b[95m 0.661   \u001b[0m | \u001b[95m 0.8949  \u001b[0m | \u001b[95m 0.9584  \u001b[0m | \u001b[95m 8.032   \u001b[0m | \u001b[95m 37.24   \u001b[0m | \u001b[95m 38.95   \u001b[0m |\n",
            "하이퍼파라미터: {'num_leaves': 32, 'lambda_l1': 0.7, 'lambda_l2': 0.9, 'feature_fraction': 0.6, 'bagging_fraction': 0.6, 'min_child_samples': 10, 'min_child_weight': 40.0, 'feature_pre_filter': False, 'objective': 'binary', 'learning_rate': 0.005, 'bagging_freq': 1, 'force_row_wise': True, 'random_state': 1991}\n",
            "지니계수 : 0.2852150244734812\n",
            "\n",
            "| \u001b[0m 5       \u001b[0m | \u001b[0m 0.2852  \u001b[0m | \u001b[0m 0.6     \u001b[0m | \u001b[0m 0.6     \u001b[0m | \u001b[0m 0.7     \u001b[0m | \u001b[0m 0.9     \u001b[0m | \u001b[0m 10.0    \u001b[0m | \u001b[0m 40.0    \u001b[0m | \u001b[0m 31.68   \u001b[0m |\n",
            "하이퍼파라미터: {'num_leaves': 30, 'lambda_l1': 0.8238942380232972, 'lambda_l2': 0.9238819205808911, 'feature_fraction': 0.6336621508258571, 'bagging_fraction': 0.8360161123978654, 'min_child_samples': 10, 'min_child_weight': 10.07325174263459, 'feature_pre_filter': False, 'objective': 'binary', 'learning_rate': 0.005, 'bagging_freq': 1, 'force_row_wise': True, 'random_state': 1991}\n",
            "지니계수 : 0.28358097225324685\n",
            "\n",
            "| \u001b[0m 6       \u001b[0m | \u001b[0m 0.2836  \u001b[0m | \u001b[0m 0.836   \u001b[0m | \u001b[0m 0.6337  \u001b[0m | \u001b[0m 0.8239  \u001b[0m | \u001b[0m 0.9239  \u001b[0m | \u001b[0m 9.622   \u001b[0m | \u001b[0m 10.07   \u001b[0m | \u001b[0m 30.07   \u001b[0m |\n",
            "하이퍼파라미터: {'num_leaves': 40, 'lambda_l1': 0.7, 'lambda_l2': 1.0, 'feature_fraction': 0.7, 'bagging_fraction': 0.9, 'min_child_samples': 10, 'min_child_weight': 40.0, 'feature_pre_filter': False, 'objective': 'binary', 'learning_rate': 0.005, 'bagging_freq': 1, 'force_row_wise': True, 'random_state': 1991}\n",
            "지니계수 : 0.28416844158148385\n",
            "\n",
            "| \u001b[0m 7       \u001b[0m | \u001b[0m 0.2842  \u001b[0m | \u001b[0m 0.9     \u001b[0m | \u001b[0m 0.7     \u001b[0m | \u001b[0m 0.7     \u001b[0m | \u001b[0m 1.0     \u001b[0m | \u001b[0m 10.0    \u001b[0m | \u001b[0m 40.0    \u001b[0m | \u001b[0m 40.0    \u001b[0m |\n",
            "하이퍼파라미터: {'num_leaves': 38, 'lambda_l1': 0.7022181633556216, 'lambda_l2': 0.9093673458298128, 'feature_fraction': 0.6229349682584451, 'bagging_fraction': 0.617193899018855, 'min_child_samples': 8, 'min_child_weight': 35.24386669357726, 'feature_pre_filter': False, 'objective': 'binary', 'learning_rate': 0.005, 'bagging_freq': 1, 'force_row_wise': True, 'random_state': 1991}\n",
            "지니계수 : 0.285728366659533\n",
            "\n",
            "| \u001b[95m 8       \u001b[0m | \u001b[95m 0.2857  \u001b[0m | \u001b[95m 0.6172  \u001b[0m | \u001b[95m 0.6229  \u001b[0m | \u001b[95m 0.7022  \u001b[0m | \u001b[95m 0.9094  \u001b[0m | \u001b[95m 7.936   \u001b[0m | \u001b[95m 35.24   \u001b[0m | \u001b[95m 37.53   \u001b[0m |\n",
            "하이퍼파라미터: {'num_leaves': 40, 'lambda_l1': 0.9, 'lambda_l2': 0.9159110552679353, 'feature_fraction': 0.6, 'bagging_fraction': 0.6, 'min_child_samples': 6, 'min_child_weight': 35.14591174568853, 'feature_pre_filter': False, 'objective': 'binary', 'learning_rate': 0.005, 'bagging_freq': 1, 'force_row_wise': True, 'random_state': 1991}\n",
            "지니계수 : 0.2860104800381049\n",
            "\n",
            "| \u001b[95m 9       \u001b[0m | \u001b[95m 0.286   \u001b[0m | \u001b[95m 0.6     \u001b[0m | \u001b[95m 0.6     \u001b[0m | \u001b[95m 0.9     \u001b[0m | \u001b[95m 0.9159  \u001b[0m | \u001b[95m 6.0     \u001b[0m | \u001b[95m 35.15   \u001b[0m | \u001b[95m 40.0    \u001b[0m |\n",
            "=============================================================================================================\n"
          ]
        }
      ]
    },
    {
      "cell_type": "code",
      "source": [
        "max_params = optimizer.max['params']\n",
        "max_params"
      ],
      "metadata": {
        "colab": {
          "base_uri": "https://localhost:8080/"
        },
        "id": "fQhx7jy9wrK7",
        "outputId": "28757030-d5af-4823-c147-09369de5ed17"
      },
      "execution_count": null,
      "outputs": [
        {
          "output_type": "execute_result",
          "data": {
            "text/plain": [
              "{'bagging_fraction': 0.6,\n",
              " 'feature_fraction': 0.6,\n",
              " 'lambda_l1': 0.9,\n",
              " 'lambda_l2': 0.9159110552679353,\n",
              " 'min_child_samples': 6.0,\n",
              " 'min_child_weight': 35.14591174568853,\n",
              " 'num_leaves': 40.0}"
            ]
          },
          "metadata": {},
          "execution_count": 85
        }
      ]
    },
    {
      "cell_type": "code",
      "source": [
        "max_params['num_leaves'] = int(round(max_params['num_leaves']))\n",
        "max_params['min_child_samples'] = int(round(max_params['min_child_samples']))"
      ],
      "metadata": {
        "id": "7ZbEaTnhw0oy"
      },
      "execution_count": null,
      "outputs": []
    },
    {
      "cell_type": "code",
      "source": [
        "max_params.update(fixed_params)"
      ],
      "metadata": {
        "id": "pWMvg9QYxEBd"
      },
      "execution_count": null,
      "outputs": []
    },
    {
      "cell_type": "code",
      "source": [
        "max_params"
      ],
      "metadata": {
        "colab": {
          "base_uri": "https://localhost:8080/"
        },
        "id": "zauMzh8GxIWP",
        "outputId": "a92122e7-c663-4b96-b482-93082db5ec21"
      },
      "execution_count": null,
      "outputs": [
        {
          "output_type": "execute_result",
          "data": {
            "text/plain": [
              "{'bagging_fraction': 0.6,\n",
              " 'bagging_freq': 1,\n",
              " 'feature_fraction': 0.6,\n",
              " 'force_row_wise': True,\n",
              " 'lambda_l1': 0.9,\n",
              " 'lambda_l2': 0.9159110552679353,\n",
              " 'learning_rate': 0.005,\n",
              " 'min_child_samples': 6,\n",
              " 'min_child_weight': 35.14591174568853,\n",
              " 'num_leaves': 40,\n",
              " 'objective': 'binary',\n",
              " 'random_state': 1991}"
            ]
          },
          "metadata": {},
          "execution_count": 88
        }
      ]
    },
    {
      "cell_type": "code",
      "source": [
        "folds = StratifiedKFold(n_splits=5, shuffle=True, random_state=1991)\n",
        "oof_val_preds = np.zeros(X.shape[0])\n",
        "oof_test_preds = np.zeros(X_test.shape[0])\n",
        "\n",
        "for idx, (train_idx, valid_idx) in enumerate(folds.split(X, y)):\n",
        "  print('#'*20, f'폴드 {idx+1}/폴드 {folds.n_splits}', '#'*20)\n",
        "\n",
        "  X_train, y_train = X[train_idx], y[train_idx]\n",
        "  X_valid, y_valid = X[valid_idx], y[valid_idx]\n",
        "\n",
        "  dtrain = lgb.Dataset(X_train, y_train)\n",
        "  dvalid = lgb.Dataset(X_valid, y_valid)\n",
        "\n",
        "  lgb_model = lgb.train(params=max_params,\n",
        "                        train_set=dtrain,\n",
        "                        num_boost_round=2500,\n",
        "                        valid_sets=dvalid,\n",
        "                        feval=gini,\n",
        "                        early_stopping_rounds=300,\n",
        "                        verbose_eval=100)\n",
        "  \n",
        "  oof_test_preds += lgb_model.predict(X_test)/folds.n_splits\n",
        "  oof_val_preds[valid_idx] += lgb_model.predict(X_valid)\n",
        "\n",
        "  gini_score = eval_gini(y_valid, oof_val_preds[valid_idx])\n",
        "  print(f'폴드 {idx+1} 지니계수 : {gini_score}\\n')"
      ],
      "metadata": {
        "colab": {
          "base_uri": "https://localhost:8080/"
        },
        "id": "ObFmkPdhxKM6",
        "outputId": "5a4de486-07a7-41e9-c9c3-c545023fceb1"
      },
      "execution_count": null,
      "outputs": [
        {
          "output_type": "stream",
          "name": "stdout",
          "text": [
            "#################### 폴드 1/폴드 5 ####################\n",
            "Training until validation scores don't improve for 300 rounds.\n",
            "[100]\tvalid_0's binary_logloss: 0.154268\tvalid_0's gini: 0.269399\n",
            "[200]\tvalid_0's binary_logloss: 0.153181\tvalid_0's gini: 0.275843\n",
            "[300]\tvalid_0's binary_logloss: 0.152576\tvalid_0's gini: 0.280498\n",
            "[400]\tvalid_0's binary_logloss: 0.152218\tvalid_0's gini: 0.28355\n",
            "[500]\tvalid_0's binary_logloss: 0.151979\tvalid_0's gini: 0.286622\n",
            "[600]\tvalid_0's binary_logloss: 0.151816\tvalid_0's gini: 0.289257\n",
            "[700]\tvalid_0's binary_logloss: 0.151701\tvalid_0's gini: 0.291343\n",
            "[800]\tvalid_0's binary_logloss: 0.151617\tvalid_0's gini: 0.292899\n",
            "[900]\tvalid_0's binary_logloss: 0.151549\tvalid_0's gini: 0.294374\n",
            "[1000]\tvalid_0's binary_logloss: 0.151498\tvalid_0's gini: 0.295459\n",
            "[1100]\tvalid_0's binary_logloss: 0.151457\tvalid_0's gini: 0.296364\n",
            "[1200]\tvalid_0's binary_logloss: 0.151423\tvalid_0's gini: 0.29724\n",
            "[1300]\tvalid_0's binary_logloss: 0.1514\tvalid_0's gini: 0.297733\n",
            "[1400]\tvalid_0's binary_logloss: 0.151387\tvalid_0's gini: 0.298047\n",
            "[1500]\tvalid_0's binary_logloss: 0.151373\tvalid_0's gini: 0.298277\n",
            "[1600]\tvalid_0's binary_logloss: 0.151359\tvalid_0's gini: 0.29857\n",
            "[1700]\tvalid_0's binary_logloss: 0.151349\tvalid_0's gini: 0.298753\n",
            "[1800]\tvalid_0's binary_logloss: 0.151344\tvalid_0's gini: 0.298831\n",
            "[1900]\tvalid_0's binary_logloss: 0.151344\tvalid_0's gini: 0.298829\n",
            "[2000]\tvalid_0's binary_logloss: 0.151347\tvalid_0's gini: 0.298758\n",
            "[2100]\tvalid_0's binary_logloss: 0.151351\tvalid_0's gini: 0.298737\n",
            "Early stopping, best iteration is:\n",
            "[1836]\tvalid_0's binary_logloss: 0.151339\tvalid_0's gini: 0.298925\n",
            "폴드 1 지니계수 : 0.2989250430081813\n",
            "\n",
            "#################### 폴드 2/폴드 5 ####################\n",
            "Training until validation scores don't improve for 300 rounds.\n",
            "[100]\tvalid_0's binary_logloss: 0.154358\tvalid_0's gini: 0.25882\n",
            "[200]\tvalid_0's binary_logloss: 0.153358\tvalid_0's gini: 0.26435\n",
            "[300]\tvalid_0's binary_logloss: 0.15281\tvalid_0's gini: 0.268368\n",
            "[400]\tvalid_0's binary_logloss: 0.152494\tvalid_0's gini: 0.271296\n",
            "[500]\tvalid_0's binary_logloss: 0.152297\tvalid_0's gini: 0.273881\n",
            "[600]\tvalid_0's binary_logloss: 0.15216\tvalid_0's gini: 0.276173\n",
            "[700]\tvalid_0's binary_logloss: 0.152065\tvalid_0's gini: 0.277939\n",
            "[800]\tvalid_0's binary_logloss: 0.15199\tvalid_0's gini: 0.279707\n",
            "[900]\tvalid_0's binary_logloss: 0.151941\tvalid_0's gini: 0.280785\n",
            "[1000]\tvalid_0's binary_logloss: 0.151897\tvalid_0's gini: 0.281787\n",
            "[1100]\tvalid_0's binary_logloss: 0.151857\tvalid_0's gini: 0.28285\n",
            "[1200]\tvalid_0's binary_logloss: 0.151827\tvalid_0's gini: 0.283572\n",
            "[1300]\tvalid_0's binary_logloss: 0.151806\tvalid_0's gini: 0.284154\n",
            "[1400]\tvalid_0's binary_logloss: 0.151795\tvalid_0's gini: 0.284478\n",
            "[1500]\tvalid_0's binary_logloss: 0.151782\tvalid_0's gini: 0.284889\n",
            "[1600]\tvalid_0's binary_logloss: 0.151774\tvalid_0's gini: 0.285168\n",
            "[1700]\tvalid_0's binary_logloss: 0.151772\tvalid_0's gini: 0.285179\n",
            "[1800]\tvalid_0's binary_logloss: 0.15177\tvalid_0's gini: 0.28525\n",
            "[1900]\tvalid_0's binary_logloss: 0.151768\tvalid_0's gini: 0.285344\n",
            "[2000]\tvalid_0's binary_logloss: 0.151762\tvalid_0's gini: 0.285538\n",
            "[2100]\tvalid_0's binary_logloss: 0.151762\tvalid_0's gini: 0.28565\n",
            "[2200]\tvalid_0's binary_logloss: 0.151761\tvalid_0's gini: 0.285649\n",
            "[2300]\tvalid_0's binary_logloss: 0.151769\tvalid_0's gini: 0.285566\n",
            "Early stopping, best iteration is:\n",
            "[2055]\tvalid_0's binary_logloss: 0.151757\tvalid_0's gini: 0.285716\n",
            "폴드 2 지니계수 : 0.2857157937923233\n",
            "\n",
            "#################### 폴드 3/폴드 5 ####################\n",
            "Training until validation scores don't improve for 300 rounds.\n",
            "[100]\tvalid_0's binary_logloss: 0.154252\tvalid_0's gini: 0.263719\n",
            "[200]\tvalid_0's binary_logloss: 0.153184\tvalid_0's gini: 0.267914\n",
            "[300]\tvalid_0's binary_logloss: 0.1526\tvalid_0's gini: 0.271712\n",
            "[400]\tvalid_0's binary_logloss: 0.152258\tvalid_0's gini: 0.274562\n",
            "[500]\tvalid_0's binary_logloss: 0.15203\tvalid_0's gini: 0.277268\n",
            "[600]\tvalid_0's binary_logloss: 0.151875\tvalid_0's gini: 0.279541\n",
            "[700]\tvalid_0's binary_logloss: 0.151776\tvalid_0's gini: 0.281019\n",
            "[800]\tvalid_0's binary_logloss: 0.151704\tvalid_0's gini: 0.282276\n",
            "[900]\tvalid_0's binary_logloss: 0.151656\tvalid_0's gini: 0.283177\n",
            "[1000]\tvalid_0's binary_logloss: 0.15163\tvalid_0's gini: 0.283729\n",
            "[1100]\tvalid_0's binary_logloss: 0.151609\tvalid_0's gini: 0.284139\n",
            "[1200]\tvalid_0's binary_logloss: 0.151593\tvalid_0's gini: 0.284543\n",
            "[1300]\tvalid_0's binary_logloss: 0.151591\tvalid_0's gini: 0.284508\n",
            "[1400]\tvalid_0's binary_logloss: 0.151587\tvalid_0's gini: 0.284527\n",
            "[1500]\tvalid_0's binary_logloss: 0.151586\tvalid_0's gini: 0.284442\n",
            "Early stopping, best iteration is:\n",
            "[1242]\tvalid_0's binary_logloss: 0.151586\tvalid_0's gini: 0.284708\n",
            "폴드 3 지니계수 : 0.2847084075235308\n",
            "\n",
            "#################### 폴드 4/폴드 5 ####################\n",
            "Training until validation scores don't improve for 300 rounds.\n",
            "[100]\tvalid_0's binary_logloss: 0.154336\tvalid_0's gini: 0.257346\n",
            "[200]\tvalid_0's binary_logloss: 0.153308\tvalid_0's gini: 0.262867\n",
            "[300]\tvalid_0's binary_logloss: 0.152763\tvalid_0's gini: 0.266131\n",
            "[400]\tvalid_0's binary_logloss: 0.152446\tvalid_0's gini: 0.268817\n",
            "[500]\tvalid_0's binary_logloss: 0.152247\tvalid_0's gini: 0.271233\n",
            "[600]\tvalid_0's binary_logloss: 0.152128\tvalid_0's gini: 0.272851\n",
            "[700]\tvalid_0's binary_logloss: 0.152038\tvalid_0's gini: 0.274512\n",
            "[800]\tvalid_0's binary_logloss: 0.151976\tvalid_0's gini: 0.275772\n",
            "[900]\tvalid_0's binary_logloss: 0.151934\tvalid_0's gini: 0.276735\n",
            "[1000]\tvalid_0's binary_logloss: 0.15191\tvalid_0's gini: 0.277255\n",
            "[1100]\tvalid_0's binary_logloss: 0.151877\tvalid_0's gini: 0.278131\n",
            "[1200]\tvalid_0's binary_logloss: 0.151857\tvalid_0's gini: 0.278756\n",
            "[1300]\tvalid_0's binary_logloss: 0.151841\tvalid_0's gini: 0.279195\n",
            "[1400]\tvalid_0's binary_logloss: 0.151832\tvalid_0's gini: 0.279542\n",
            "[1500]\tvalid_0's binary_logloss: 0.151827\tvalid_0's gini: 0.279739\n",
            "[1600]\tvalid_0's binary_logloss: 0.151824\tvalid_0's gini: 0.279921\n",
            "[1700]\tvalid_0's binary_logloss: 0.151821\tvalid_0's gini: 0.280096\n",
            "[1800]\tvalid_0's binary_logloss: 0.151826\tvalid_0's gini: 0.279994\n",
            "[1900]\tvalid_0's binary_logloss: 0.151826\tvalid_0's gini: 0.280071\n",
            "[2000]\tvalid_0's binary_logloss: 0.151828\tvalid_0's gini: 0.279992\n",
            "Early stopping, best iteration is:\n",
            "[1750]\tvalid_0's binary_logloss: 0.151819\tvalid_0's gini: 0.280197\n",
            "폴드 4 지니계수 : 0.2801967228541899\n",
            "\n",
            "#################### 폴드 5/폴드 5 ####################\n",
            "Training until validation scores don't improve for 300 rounds.\n",
            "[100]\tvalid_0's binary_logloss: 0.154396\tvalid_0's gini: 0.267334\n",
            "[200]\tvalid_0's binary_logloss: 0.153365\tvalid_0's gini: 0.273116\n",
            "[300]\tvalid_0's binary_logloss: 0.152815\tvalid_0's gini: 0.276296\n",
            "[400]\tvalid_0's binary_logloss: 0.152482\tvalid_0's gini: 0.279496\n",
            "[500]\tvalid_0's binary_logloss: 0.152262\tvalid_0's gini: 0.282639\n",
            "[600]\tvalid_0's binary_logloss: 0.152113\tvalid_0's gini: 0.285304\n",
            "[700]\tvalid_0's binary_logloss: 0.152002\tvalid_0's gini: 0.287521\n",
            "[800]\tvalid_0's binary_logloss: 0.151915\tvalid_0's gini: 0.28964\n",
            "[900]\tvalid_0's binary_logloss: 0.151855\tvalid_0's gini: 0.29106\n",
            "[1000]\tvalid_0's binary_logloss: 0.151811\tvalid_0's gini: 0.292056\n",
            "[1100]\tvalid_0's binary_logloss: 0.151784\tvalid_0's gini: 0.292701\n",
            "[1200]\tvalid_0's binary_logloss: 0.151754\tvalid_0's gini: 0.293591\n",
            "[1300]\tvalid_0's binary_logloss: 0.15173\tvalid_0's gini: 0.294215\n",
            "[1400]\tvalid_0's binary_logloss: 0.15171\tvalid_0's gini: 0.294754\n",
            "[1500]\tvalid_0's binary_logloss: 0.151704\tvalid_0's gini: 0.294902\n",
            "[1600]\tvalid_0's binary_logloss: 0.151695\tvalid_0's gini: 0.295075\n",
            "[1700]\tvalid_0's binary_logloss: 0.151689\tvalid_0's gini: 0.295209\n",
            "[1800]\tvalid_0's binary_logloss: 0.15168\tvalid_0's gini: 0.29545\n",
            "[1900]\tvalid_0's binary_logloss: 0.151683\tvalid_0's gini: 0.29543\n",
            "[2000]\tvalid_0's binary_logloss: 0.151683\tvalid_0's gini: 0.295342\n",
            "[2100]\tvalid_0's binary_logloss: 0.151686\tvalid_0's gini: 0.295203\n",
            "[2200]\tvalid_0's binary_logloss: 0.151687\tvalid_0's gini: 0.295196\n",
            "Early stopping, best iteration is:\n",
            "[1911]\tvalid_0's binary_logloss: 0.151679\tvalid_0's gini: 0.295564\n",
            "폴드 5 지니계수 : 0.2955642426423663\n",
            "\n"
          ]
        }
      ]
    },
    {
      "cell_type": "code",
      "source": [
        "print('OOF 검증 데이터 지니계수 :', eval_gini(y, oof_val_preds))"
      ],
      "metadata": {
        "colab": {
          "base_uri": "https://localhost:8080/"
        },
        "id": "ZRRyiS-ryrg8",
        "outputId": "8dfab7ce-d36e-4527-a6ac-6d9eb8c3000b"
      },
      "execution_count": null,
      "outputs": [
        {
          "output_type": "stream",
          "name": "stdout",
          "text": [
            "OOF 검증 데이터 지니계수 : 0.28893480760807283\n"
          ]
        }
      ]
    },
    {
      "cell_type": "code",
      "source": [
        "submission['target'] = oof_test_preds\n",
        "submission.to_csv('submission_1.csv')"
      ],
      "metadata": {
        "id": "EyVVIe3byy9v"
      },
      "execution_count": null,
      "outputs": []
    }
  ]
}